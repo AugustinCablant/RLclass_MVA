{
 "cells": [
  {
   "cell_type": "markdown",
   "id": "3c6b4bd5-8373-42cc-84d9-31b5860f7655",
   "metadata": {},
   "source": [
    "<a rel=\"license\" href=\"http://creativecommons.org/licenses/by-nc-sa/4.0/\"><img alt=\"Creative Commons License\" align=\"left\" src=\"https://i.creativecommons.org/l/by-nc-sa/4.0/80x15.png\" /></a>&nbsp;| [Emmanuel Rachelson](https://personnel.isae-supaero.fr/emmanuel-rachelson?lang=en) | <a href=\"https://erachelson.github.io/RLclass_MVA/\">https://erachelson.github.io/RLclass_MVA/</a>"
   ]
  },
  {
   "cell_type": "markdown",
   "id": "c20521c9-fe11-4dbc-b77d-42561a96b7e1",
   "metadata": {},
   "source": [
    "<div style=\"font-size:22pt; line-height:25pt; font-weight:bold; text-align:center;\">Chapter 4: From fitted Q-iteration to deep Q-networks</div>"
   ]
  },
  {
   "cell_type": "markdown",
   "id": "8a9092fe-8dcc-4fbc-a7c1-df9075090aa6",
   "metadata": {},
   "source": [
    "<div class=\"alert alert-success\">\n",
    "\n",
    "**Learning outcomes**   \n",
    "By the end of this chapter, you should be able to:\n",
    "- write and execute a fitted Q-iteration algorithm with any offline regression method,\n",
    "- explain the limitations of fitted Q-iteration,\n",
    "- implement the deep Q-networks architecture(s) and algorithm, and their immediate improvements with target networks, gradient clipping and alternate optimizers,\n",
    "- discuss the limitations of DQN, list improvements present in Rainbow, and cite their sources.\n",
    "\n",
    "Additionally, after doing the homework(*), you should be able to:\n",
    "- explain and implement n-step returns\n",
    "- explain and implement double DQN\n",
    "- explain and implement prioritized experience replay\n",
    "- explain and implement C51\n",
    "- explain and implement NoisyNets\n",
    "- explain and implement Munchausen DQN\n",
    "\n",
    "(*) as of Jan 29th, 2024, this part is not implemented yet.\n",
    "</div>"
   ]
  },
  {
   "cell_type": "markdown",
   "id": "cbaf67c3-9048-4c34-a6db-e15c260c3828",
   "metadata": {},
   "source": [
    "In this second series of chapters, we confront our foundational knowledge to various challenges in RL: continuous, sometimes high-dimensional state spaces, sparse rewards, difficult exploration with deceptive rewards, continuous actions, etc. Most problems will combine several of these challenges. We will take an algorithmic approach, building modern RL algorithms as solutions to these challenges.\n",
    "\n",
    "In this chapter, we build upon the foundations of approximate value iteration (AVI), which we studied in depth previously and which enabled designing Q-learning. We depart from toy problems and dive into larger scale ones, with the intention to build approximate value iteration algorithms that scale to challenging environments."
   ]
  },
  {
   "cell_type": "markdown",
   "id": "281a9cab-f286-4f64-b994-f65cbdd791d6",
   "metadata": {},
   "source": [
    "# Environments"
   ]
  },
  {
   "cell_type": "markdown",
   "id": "87685ab1-6fb1-4007-ad17-8708218ed524",
   "metadata": {},
   "source": [
    "## Cart-pole\n",
    "\n",
    "Full description on the [gymnasium website](https://gymnasium.farama.org/environments/classic_control/cart_pole/).\n",
    "\n",
    "> A pole is attached by an un-actuated joint to a cart, which moves along a frictionless track. The pendulum is placed upright on the cart and the goal is to balance the pole by applying forces in the left and right direction on the cart."
   ]
  },
  {
   "cell_type": "code",
   "execution_count": 1,
   "id": "16a7d443-a9e4-491a-ba10-c5fd2090db3c",
   "metadata": {},
   "outputs": [
    {
     "name": "stdout",
     "output_type": "stream",
     "text": [
      "Observation space: Box([-4.8000002e+00 -3.4028235e+38 -4.1887903e-01 -3.4028235e+38], [4.8000002e+00 3.4028235e+38 4.1887903e-01 3.4028235e+38], (4,), float32)\n",
      "Action space: Discrete(2)\n",
      "Starting state: [-0.00972863 -0.04082042  0.03342808 -0.00016966]\n"
     ]
    },
    {
     "data": {
      "image/png": "[encoded data removed]",
      "text/plain": [
       "<Figure size 640x480 with 1 Axes>"
      ]
     },
     "metadata": {},
     "output_type": "display_data"
    }
   ],
   "source": [
    "import gymnasium as gym\n",
    "import matplotlib.pyplot as plt\n",
    "cartpole = gym.make('CartPole-v1', render_mode=\"rgb_array\")\n",
    "print(\"Observation space:\", cartpole.observation_space)\n",
    "print(\"Action space:\", cartpole.action_space)\n",
    "s,_ = cartpole.reset()\n",
    "print(\"Starting state:\", s)\n",
    "plt.imshow(cartpole.render());"
   ]
  },
  {
   "cell_type": "code",
   "execution_count": 2,
   "id": "e1066cf9-d586-46e3-a89a-cacb6da07e7a",
   "metadata": {},
   "outputs": [],
   "source": [
    "import gymnasium as gym\n",
    "cartpole = gym.make('CartPole-v1', render_mode=\"human\")\n",
    "s,_ = cartpole.reset()\n",
    "for t in range(200):\n",
    "    s2,r,d,trunc,_ = cartpole.step(cartpole.action_space.sample())\n",
    "    cartpole.render()\n",
    "    if d:\n",
    "        break"
   ]
  },
  {
   "cell_type": "code",
   "execution_count": 3,
   "id": "f0b0e279-47b3-492c-b117-1b7daf67be8b",
   "metadata": {},
   "outputs": [],
   "source": [
    "cartpole.close()"
   ]
  },
  {
   "cell_type": "markdown",
   "id": "d73b4deb-e2d4-46e2-954e-8adb6cd8261a",
   "metadata": {},
   "source": [
    "## Acrobot\n",
    "\n",
    "Full description on the [gymnasium website](https://gymnasium.farama.org/environments/classic_control/acrobot/).\n",
    "\n",
    "> The system consists of two links connected linearly to form a chain, with one end of the chain fixed. The joint between the two links is actuated. The goal is to apply torques on the actuated joint to swing the free end of the linear chain above a given height while starting from the initial state of hanging downwards."
   ]
  },
  {
   "cell_type": "code",
   "execution_count": 4,
   "id": "05fe2681-d80b-44e3-9412-682531b9a349",
   "metadata": {},
   "outputs": [
    {
     "name": "stdout",
     "output_type": "stream",
     "text": [
      "Observation space: Box([ -1.        -1.        -1.        -1.       -12.566371 -28.274334], [ 1.        1.        1.        1.       12.566371 28.274334], (6,), float32)\n",
      "Action space: Discrete(3)\n",
      "Starting state: [ 0.9999975   0.00224744  0.99644357  0.08426263 -0.01159401  0.09105948]\n"
     ]
    },
    {
     "data": {
      "image/png": "[encoded data removed]",
      "text/plain": [
       "<Figure size 640x480 with 1 Axes>"
      ]
     },
     "metadata": {},
     "output_type": "display_data"
    }
   ],
   "source": [
    "import gymnasium as gym\n",
    "import matplotlib.pyplot as plt\n",
    "acrobot = gym.make('Acrobot-v1', render_mode=\"rgb_array\")\n",
    "print(\"Observation space:\", acrobot.observation_space)\n",
    "print(\"Action space:\", acrobot.action_space)\n",
    "s,_ = acrobot.reset()\n",
    "print(\"Starting state:\", s)\n",
    "plt.imshow(acrobot.render());"
   ]
  },
  {
   "cell_type": "code",
   "execution_count": 5,
   "id": "8bc192ed-8ebb-43e3-96a7-84e0ea3a7fea",
   "metadata": {},
   "outputs": [],
   "source": [
    "import gymnasium as gym\n",
    "acrobot = gym.make('Acrobot-v1', render_mode=\"human\")\n",
    "s,_ = acrobot.reset()\n",
    "for t in range(200):\n",
    "    s2,r,d,trunc,_ = acrobot.step(acrobot.action_space.sample())\n",
    "    acrobot.render()\n",
    "    if d:\n",
    "        break"
   ]
  },
  {
   "cell_type": "code",
   "execution_count": 6,
   "id": "b54aecf0-3e20-4d6b-8f80-80747ef528ef",
   "metadata": {},
   "outputs": [],
   "source": [
    "acrobot.close()"
   ]
  },
  {
   "cell_type": "markdown",
   "id": "b710f1df-69c1-4160-b8c8-3ce2ef009644",
   "metadata": {},
   "source": [
    "## Pong\n",
    "\n",
    "Let's build an agent that learns to play Pong, one of the [Atari games](https://gymnasium.farama.org/environments/atari/pong/) in Gymnasium (originally in the [Arcade Learning Environment](https://github.com/mgbellemare/Arcade-Learning-Environment)). You might want to try different games later on (like the popular Breakout game for instance).\n",
    "\n",
    "Here is the environment's description.\n",
    "> Maximize your score in the Atari 2600 game Pong. In this environment, the observation is an RGB image of the screen, which is an array of shape (210, 160, 3). Each action is repeatedly performed for a duration of k frames, where k is uniformly sampled from $\\{2, 3, 4\\}$."
   ]
  },
  {
   "cell_type": "code",
   "execution_count": 7,
   "id": "8084282e-d02c-4696-b1da-2e6d25b7c21f",
   "metadata": {
    "scrolled": true
   },
   "outputs": [
    {
     "name": "stderr",
     "output_type": "stream",
     "text": [
      "A.L.E: Arcade Learning Environment (version 0.8.1+53f58b7)\n",
      "[Powered by Stella]\n",
      "/home/emmanuel/anaconda3/lib/python3.11/site-packages/gymnasium/utils/passive_env_checker.py:335: UserWarning: \u001b[33mWARN: No render fps was declared in the environment (env.metadata['render_fps'] is None or not defined), rendering may occur at inconsistent fps.\u001b[0m\n",
      "  logger.warn(\n"
     ]
    },
    {
     "name": "stdout",
     "output_type": "stream",
     "text": [
      "Observation space: Box(0, 255, (210, 160, 3), uint8)\n",
      "Action space: Discrete(6)\n"
     ]
    },
    {
     "data": {
      "image/png": "[encoded data removed]",
      "text/plain": [
       "<Figure size 640x480 with 1 Axes>"
      ]
     },
     "metadata": {},
     "output_type": "display_data"
    }
   ],
   "source": [
    "import gymnasium as gym\n",
    "import matplotlib.pyplot as plt\n",
    "pong = gym.make(\"PongNoFrameskip-v4\", render_mode=\"rgb_array\")\n",
    "print(\"Observation space:\", pong.observation_space)\n",
    "print(\"Action space:\", pong.action_space)\n",
    "s,_ = pong.reset()\n",
    "plt.imshow(pong.render(),vmin=0,vmax=255);"
   ]
  },
  {
   "cell_type": "markdown",
   "id": "32a5edd8-d23a-4da3-9aa7-4387ed637d2f",
   "metadata": {},
   "source": [
    "<div class=\"alert alert-warning\">\n",
    "\n",
    "**Exercise:** What is the number of possible states? Why is this not an MDP? What would one need to turn this back into an MDP?\n",
    "</div>"
   ]
  },
  {
   "cell_type": "markdown",
   "id": "e76da9e1-18bf-4ac8-a28e-67c81edd36a1",
   "metadata": {},
   "source": [
    "<details class=\"alert alert-danger\">\n",
    "    <summary markdown=\"span\"><b>Ready to see the answer? (click to expand)</b></summary>\n",
    "\n",
    "One frame is a $210\\times 160$ RGB image with a 256 color palette, so the set of all possible frames has size $256^{210 \\times 160 \\times 3} \\sim 10^{242579}$. That's a little too many for an efficient enumeration. Of course, most of the possible images will never occur in a Breakout game and the true state space is actually a much smaller subset of the full set of possible images. Nevertheless, unless we provide a large engineering effort in describing the state space with few variables (which would be contradictory of our goal of a \"human-level\" AI) we will need to automatically discover some structure in the state sampled data.\n",
    "\n",
    "This is not an MDP because the transition dynamics do not respect Markov's property. The probability of transitioning from $s_t$ to $s_{t+1}$ is *not* independent of previous states. The problem here is that a single frame of the game does not reflect the velocity of the ball.\n",
    "\n",
    "To recover Markov's property one could simply stack a few frames together in the state space.\n",
    "</details>"
   ]
  },
  {
   "cell_type": "markdown",
   "id": "08f56c0d-e8f3-43cd-9882-724cc4a4c4f0",
   "metadata": {},
   "source": [
    "There are 18 buttons on the Atari controller. However not all games use all buttons. Our interface to Pong specifies 6 possible actions:"
   ]
  },
  {
   "cell_type": "code",
   "execution_count": 8,
   "id": "53bb70b2-c1ba-46f6-bdda-3b767ee685ee",
   "metadata": {},
   "outputs": [
    {
     "name": "stdout",
     "output_type": "stream",
     "text": [
      "['NOOP', 'FIRE', 'RIGHT', 'LEFT', 'RIGHTFIRE', 'LEFTFIRE']\n"
     ]
    }
   ],
   "source": [
    "print(pong.unwrapped.get_action_meanings())"
   ]
  },
  {
   "cell_type": "markdown",
   "id": "2d48d5e4-c22a-40f0-b048-2e4d5ccd15cd",
   "metadata": {},
   "source": [
    "Gymnasium provides us with a number of environment wrappers that help preprocessng observations, actions or environment-specific features. There is [one such wrapper for Atari games](https://gymnasium.farama.org/api/wrappers/misc_wrappers/#gymnasium.wrappers.AtariPreprocessing)."
   ]
  },
  {
   "cell_type": "code",
   "execution_count": 9,
   "id": "29d4c732-1cda-437c-b4b8-2c4b97bcd0bd",
   "metadata": {},
   "outputs": [],
   "source": [
    "from gymnasium.wrappers import AtariPreprocessing\n",
    "pong = AtariPreprocessing(pong)"
   ]
  },
  {
   "cell_type": "code",
   "execution_count": 10,
   "id": "3195df17-3bf5-4e17-b2a9-30fe08dfa111",
   "metadata": {},
   "outputs": [
    {
     "name": "stdout",
     "output_type": "stream",
     "text": [
      "Box(0, 255, (84, 84), uint8)\n",
      "Discrete(6)\n"
     ]
    }
   ],
   "source": [
    "print(pong.observation_space)\n",
    "print(pong.action_space)"
   ]
  },
  {
   "cell_type": "code",
   "execution_count": 11,
   "id": "41111b18-8ce8-4ed9-a062-35b71972530d",
   "metadata": {},
   "outputs": [
    {
     "name": "stdout",
     "output_type": "stream",
     "text": [
      "shape: (84, 84), min = 52, max = 236, dtype = uint8\n"
     ]
    },
    {
     "data": {
      "image/png": "[encoded data removed]",
      "text/plain": [
       "<Figure size 640x480 with 1 Axes>"
      ]
     },
     "metadata": {},
     "output_type": "display_data"
    }
   ],
   "source": [
    "# Trying a random agent in Pong\n",
    "import time\n",
    "import numpy as np\n",
    "%matplotlib inline\n",
    "import matplotlib.pyplot as plt\n",
    "\n",
    "_,_ = pong.reset()\n",
    "for i in range(60):\n",
    "    a = np.random.randint(2)\n",
    "    x, r, _, _, _ = pong.step(a)\n",
    "    \n",
    "print(\"shape: \", x.shape, \", min = \", x.min(), \", max = \", x.max(), \", dtype = \", x.dtype, sep='')\n",
    "plt.imshow(x, cmap='gray');"
   ]
  },
  {
   "cell_type": "markdown",
   "id": "4a08e737-c445-4240-9149-e746f4c9dc58",
   "metadata": {},
   "source": [
    "# Fitted Q-iteration"
   ]
  },
  {
   "cell_type": "markdown",
   "id": "02291ecc-40f4-4d2f-9b1d-75592100a6f8",
   "metadata": {},
   "source": [
    "## Reminder: AVI as a series of risk minimization problems\n",
    "\n",
    "<div class=\"alert alert-success\">\n",
    "\n",
    "**Approximate value iteration as a sequence of risk minimization problems**  \n",
    "$$\\pi_n \\in \\mathcal{G} Q_n,$$\n",
    "$$L_n(\\theta) = \\frac{1}{2} \\mathbb{E}_{(s,a) \\sim \\rho}\\left[ \\left( Q(s,a;\\theta) - G^{\\pi_n}_1(s,a,Q_n) \\right)^2 \\right],$$\n",
    "$$\\theta_{n+1} \\in \\arg\\min_{\\theta} L_n(\\theta),$$\n",
    "$$Q_{n+1}(s,a) = Q(s,a;\\theta_{n+1}).$$\n",
    "</div>\n",
    "\n",
    "With \n",
    "$$\\pi \\in \\mathcal{G} Q, \\Leftrightarrow \\pi(s) \\in \\arg\\max_{\\pi \\in \\Delta_A} \\mathbb{E}_{a\\sim\\pi} \\left[Q(s,a)\\right]$$\n",
    "\n",
    "And\n",
    "$$G^\\pi_1(s,a,Q) = R_0 + \\gamma Q(S_1, A_1) \\quad \\Bigg| \\quad \\begin{array}{l}S_0 = s, A_0=a\\\\ A_1 \\sim \\pi(S_1),\\\\ S_{1}\\sim p(\\cdot|S_0,A_0),\\\\ R_0 = r(S_0,A_0,S_{1}).\\end{array}$$"
   ]
  },
  {
   "cell_type": "markdown",
   "id": "3a056402-7ce6-48cb-a1fd-d0fba2f97d44",
   "metadata": {},
   "source": [
    "In the previous chapter, we saw that the exact, tabular representation of $Q$ was actually a linear model. In turn, this opened the possibility to use stochastic approximation to solve the $\\min_\\theta L_n(\\theta)$ problem, leading to Q-learning and SARSA.\n",
    "\n",
    "Such representations do not scale to large state spaces, and we know we should turn to function approximation sooner or later. \n",
    "Given iid samples $(s,a,r,s')$, solving $\\min_\\theta L_n(\\theta)$ translates to a supervised learning problem whose inputs $x$ are $x=(s,a)$ pairs, and outputs $y$ are $y=r+\\gamma \\mathbb{E}_{a'\\sim \\pi_n(s')} Q_n(s',a')$.  \n",
    "\n",
    "While, in the previous chapter, stochastic approximation enabled learning $\\min_\\theta L_n(\\theta)$ with on-the-fly acquired samples (provided the function approximator was differentiable), it seems reasonable to enable storage of samples, leading to a training set of iid samples $\\{(s,a,r,s')\\}$ which we called an *experience replay memory* or *replay buffer*: with this, the regression problem now has a function representation space and a training set of input-output pairs $\\{(x,y)\\}$.\n",
    "\n",
    "The supervised learning literature provides us with a span of efficient methods to solve such a regression problem. \n",
    "Random forests is a reasonably all-purpose method, with great properties in many cases: let's build a sample-based AVI method using random forests.\n",
    "\n",
    "In general, the use of supervised learning regressors as approximators of the sequence of AVI's Q-functions is called **fitted Q-iteration (FQI)**."
   ]
  },
  {
   "cell_type": "markdown",
   "id": "b65f84a1-c9aa-44a6-8fa8-af1a4c7c2408",
   "metadata": {},
   "source": [
    "## A random forest based FQI algorithm."
   ]
  },
  {
   "cell_type": "markdown",
   "id": "17b4cdfb-c5e5-4219-a2d6-ff8ff835ac70",
   "metadata": {},
   "source": [
    "One often considers that the two historical papers implementing FQI algorithms are the ones describing **[Tree-Based Batch Mode Reinforcement Learning](https://www.jmlr.org/papers/volume6/ernst05a/ernst05a.pdf)** (Ernst et al., 2005) and **[Neural Fitted Q Iteration](https://link.springer.com/chapter/10.1007/11564096_32)** (Riedmiller, 2005). Of course they were not the only ones but they are often quoted as milestones in RL history.\n",
    "\n",
    "We are going to implement an algorithm which is very close to that presented in the Tree-Based Batch Mode Reinforcement Learning paper. The main difference is that the authors employed a variant of random forests called extra trees. Scikit-learn provides an implementation of both random forests and extra trees, feel free to swap one for the other in what follows. \n",
    "\n",
    "The first step to perform FQI is to collect and store a dataset of samples. \n",
    "<div class=\"alert alert-warning\">\n",
    "\n",
    "**Exercise:**  \n",
    "Collect $10^4$ samples using a uniformly random policy and store them.\n",
    "</div>"
   ]
  },
  {
   "cell_type": "code",
   "execution_count": 12,
   "id": "5113f20a-2a02-4160-b519-18944b721785",
   "metadata": {},
   "outputs": [],
   "source": [
    "import numpy as np\n",
    "from tqdm import tqdm\n",
    "\n",
    "def collect_samples(env, horizon, disable_tqdm=False, print_done_states=False):\n",
    "    s, _ = env.reset()\n",
    "    #dataset = []\n",
    "    S = []\n",
    "    A = []\n",
    "    R = []\n",
    "    S2 = []\n",
    "    D = []\n",
    "    for _ in tqdm(range(horizon), disable=disable_tqdm):\n",
    "        a = env.action_space.sample()\n",
    "        s2, r, done, trunc, _ = env.step(a)\n",
    "        #dataset.append((s,a,r,s2,done,trunc))\n",
    "        S.append(s)\n",
    "        A.append(a)\n",
    "        R.append(r)\n",
    "        S2.append(s2)\n",
    "        D.append(done)\n",
    "        if done or trunc:\n",
    "            s, _ = env.reset()\n",
    "            if done and print_done_states:\n",
    "                print(\"done!\")\n",
    "        else:\n",
    "            s = s2\n",
    "    S = np.array(S)\n",
    "    A = np.array(A).reshape((-1,1))\n",
    "    R = np.array(R)\n",
    "    S2= np.array(S2)\n",
    "    D = np.array(D)\n",
    "    return S, A, R, S2, D"
   ]
  },
  {
   "cell_type": "code",
   "execution_count": 13,
   "id": "b7b35f56-99be-43ee-a294-4023bb641959",
   "metadata": {},
   "outputs": [
    {
     "name": "stderr",
     "output_type": "stream",
     "text": [
      "100%|███████████████████████████████████████████████████████████████████████████████████████████████████████████████████████████████████████████████████████████████████████████████████████████████| 10000/10000 [00:00<00:00, 156794.65it/s]"
     ]
    },
    {
     "name": "stdout",
     "output_type": "stream",
     "text": [
      "nb of collected samples: 10000\n",
      "sample 0 \n",
      "  state: [-0.02752915  0.04000326 -0.01293342  0.01705752] \n",
      "  action: [1] \n",
      "  reward: 1.0 \n",
      "  next state: [-0.02672908  0.23530827 -0.01259227 -0.27967784] \n",
      " terminal? False\n",
      "sample 1 \n",
      "  state: [-0.02672908  0.23530827 -0.01259227 -0.27967784] \n",
      "  action: [0] \n",
      "  reward: 1.0 \n",
      "  next state: [-0.02202292  0.0403682  -0.01818582  0.00900707] \n",
      " terminal? False\n",
      "sample 2 \n",
      "  state: [-0.02202292  0.0403682  -0.01818582  0.00900707] \n",
      "  action: [1] \n",
      "  reward: 1.0 \n",
      "  next state: [-0.02121555  0.23574618 -0.01800568 -0.28935778] \n",
      " terminal? False\n"
     ]
    },
    {
     "name": "stderr",
     "output_type": "stream",
     "text": [
      "\n"
     ]
    }
   ],
   "source": [
    "import gymnasium as gym\n",
    "cartpole = gym.make('CartPole-v1', render_mode=\"rgb_array\")\n",
    "S,A,R,S2,D = collect_samples(cartpole, int(1e4))\n",
    "print(\"nb of collected samples:\", S.shape[0])\n",
    "for i in range(3):\n",
    "    print(\"sample\", i, \"\\n  state:\", S[i], \"\\n  action:\", A[i], \"\\n  reward:\", R[i], \"\\n  next state:\", S2[i], \"\\n terminal?\", D[i])"
   ]
  },
  {
   "cell_type": "markdown",
   "id": "63019e11-3db5-4a22-819a-b978ede5244f",
   "metadata": {},
   "source": [
    "Now let's consider $Q_0$ is the constant zero function and train a random forest to learn $Q_1$.\n",
    "\n",
    "<div class=\"alert alert-warning\">\n",
    "\n",
    "**Exercise:**  \n",
    "Construct the training set to learn $Q_1$, then train it.\n",
    "</div>"
   ]
  },
  {
   "cell_type": "code",
   "execution_count": 14,
   "id": "52b13a15-f58c-4e97-8543-4d452bd5276d",
   "metadata": {},
   "outputs": [],
   "source": [
    "from sklearn.ensemble import RandomForestRegressor\n",
    "import numpy as np\n",
    "\n",
    "SA = np.append(S,A,axis=1)\n",
    "value = R.copy()\n",
    "\n",
    "Q1 = RandomForestRegressor()\n",
    "Q1.fit(SA,value);"
   ]
  },
  {
   "cell_type": "code",
   "execution_count": 15,
   "id": "5dad256b-eb24-4451-8f6a-361f388026a3",
   "metadata": {},
   "outputs": [
    {
     "name": "stdout",
     "output_type": "stream",
     "text": [
      "training MSE: 0.0\n"
     ]
    }
   ],
   "source": [
    "# compute MSE\n",
    "print(\"training MSE:\", np.mean((value-Q1.predict(SA))**2))"
   ]
  },
  {
   "cell_type": "markdown",
   "id": "0ddd3ee3-f25d-4abc-9d12-8feef90a5332",
   "metadata": {},
   "source": [
    "<div class=\"alert alert-warning\">\n",
    "\n",
    "**Exercise:**  \n",
    "Restart from scratch and write the loop that builds the sequence of AVI Q-functions. Store all successive Q-functions.\n",
    "</div>"
   ]
  },
  {
   "cell_type": "code",
   "execution_count": 16,
   "id": "b98a11e2-8400-4406-8ed0-89fcb64b1c89",
   "metadata": {},
   "outputs": [],
   "source": [
    "# %load solutions/rf_fqi.py\n",
    "import numpy as np\n",
    "from sklearn.ensemble import RandomForestRegressor\n",
    "from tqdm import tqdm\n",
    "\n",
    "def rf_fqi(S, A, R, S2, D, iterations, nb_actions, gamma, disable_tqdm=False):\n",
    "    nb_samples = S.shape[0]\n",
    "    Qfunctions = []\n",
    "    SA = np.append(S,A,axis=1)\n",
    "    for iter in tqdm(range(iterations), disable=disable_tqdm):\n",
    "        if iter==0:\n",
    "            value=R.copy()\n",
    "        else:\n",
    "            Q2 = np.zeros((nb_samples,nb_actions))\n",
    "            for a2 in range(nb_actions):\n",
    "                A2 = a2*np.ones((S.shape[0],1))\n",
    "                S2A2 = np.append(S2,A2,axis=1)\n",
    "                Q2[:,a2] = Qfunctions[-1].predict(S2A2)\n",
    "            max_Q2 = np.max(Q2,axis=1)\n",
    "            value = R + gamma*(1-D)*max_Q2\n",
    "        Q = RandomForestRegressor()\n",
    "        Q.fit(SA,value)\n",
    "        Qfunctions.append(Q)\n",
    "    return Qfunctions\n"
   ]
  },
  {
   "cell_type": "code",
   "execution_count": 17,
   "id": "2cea5307-3cc6-4ac3-b5d9-10413be5b28a",
   "metadata": {},
   "outputs": [
    {
     "name": "stderr",
     "output_type": "stream",
     "text": [
      "100%|█████████████████████████████████████████████████████████████████████████████████████████████████████████████████████████████████████████████████████████████████████████████████████████████████████████| 10/10 [00:44<00:00,  4.41s/it]\n"
     ]
    }
   ],
   "source": [
    "gamma = .9\n",
    "nb_iter = 10\n",
    "nb_actions = cartpole.action_space.n\n",
    "Qfunctions = rf_fqi(S, A, R, S2, D, nb_iter, nb_actions, gamma)"
   ]
  },
  {
   "cell_type": "code",
   "execution_count": 18,
   "id": "4fb16007-61f4-46aa-a909-dcda4d884170",
   "metadata": {},
   "outputs": [
    {
     "data": {
      "image/png": "[encoded data removed]",
      "text/plain": [
       "<Figure size 640x480 with 1 Axes>"
      ]
     },
     "metadata": {},
     "output_type": "display_data"
    },
    {
     "data": {
      "image/png": "[encoded data removed]",
      "text/plain": [
       "<Figure size 640x480 with 1 Axes>"
      ]
     },
     "metadata": {},
     "output_type": "display_data"
    }
   ],
   "source": [
    "import matplotlib.pyplot as plt\n",
    "\n",
    "# Value of an initial state across iterations\n",
    "s0,_ = cartpole.reset()\n",
    "Vs0 = np.zeros(nb_iter)\n",
    "for i in range(nb_iter):\n",
    "    Qs0a = []\n",
    "    for a in range(cartpole.action_space.n):\n",
    "        s0a = np.append(s0,a).reshape(1, -1)\n",
    "        Qs0a.append(Qfunctions[i].predict(s0a))\n",
    "    Vs0[i] = np.max(Qs0a)\n",
    "plt.plot(Vs0)\n",
    "\n",
    "# Bellman residual\n",
    "residual = []\n",
    "for i in range(1,nb_iter):\n",
    "    residual.append(np.mean((Qfunctions[i].predict(SA)-Qfunctions[i-1].predict(SA))**2))\n",
    "plt.figure()\n",
    "plt.plot(residual);"
   ]
  },
  {
   "cell_type": "markdown",
   "id": "eb7e6552-08e7-4a62-81c4-287a08e6e339",
   "metadata": {},
   "source": [
    "<div class=\"alert alert-warning\">\n",
    "\n",
    "**Exercise:**  \n",
    "Evaluate graphically and qualitatively how the last learned policy performs.\n",
    "</div>"
   ]
  },
  {
   "cell_type": "code",
   "execution_count": 19,
   "id": "5c9c0736-45d4-49c5-8230-984f332f9e96",
   "metadata": {},
   "outputs": [],
   "source": [
    "def greedy_action(Q,s,nb_actions):\n",
    "    Qsa = []\n",
    "    for a in range(nb_actions):\n",
    "        sa = np.append(s,a).reshape(1, -1)\n",
    "        Qsa.append(Q.predict(sa))\n",
    "    return np.argmax(Qsa)"
   ]
  },
  {
   "cell_type": "code",
   "execution_count": 20,
   "id": "e578ad19-6985-4855-9a56-f2559e97c2ab",
   "metadata": {},
   "outputs": [],
   "source": [
    "import gymnasium as gym\n",
    "cartpole = gym.make('CartPole-v1', render_mode=\"human\")\n",
    "s,_ = cartpole.reset()\n",
    "for t in range(500):\n",
    "    a = greedy_action(Qfunctions[-1],s,cartpole.action_space.n)\n",
    "    s2,r,d,trunc,_ = cartpole.step(a)\n",
    "    cartpole.render()\n",
    "    s = s2\n",
    "    if d:\n",
    "        break"
   ]
  },
  {
   "cell_type": "code",
   "execution_count": 21,
   "id": "51e48e7a-c269-41e7-ad3d-85727f041204",
   "metadata": {},
   "outputs": [],
   "source": [
    "cartpole.close()"
   ]
  },
  {
   "cell_type": "markdown",
   "id": "37abc045-1ed1-4119-a83e-1bf589b1c825",
   "metadata": {},
   "source": [
    "## Discussion\n",
    "\n",
    "Eventually, we have a fully offline procedure that seems to achieve an efficient control for the cart-pole (or acrobot) environment. This is a rather strong result: with fully offline samples we seem to be able to learn good controlers.\n",
    "\n",
    "But there are limits to this approach, mostly due to the mismatch between $\\rho$ and the states and actions actually visited by the learned policy $\\pi$.  \n",
    "What would have happened if, in acrobot, there had been no sample with `done=True` in the training set?  \n",
    "Isn't the totally random collection of samples a waste of computational resources in some states, and a lack of exploration in others?\n",
    "\n",
    "Some samples in the training set might be very redundant or completely unrelated to states encountered by $\\pi$. Their presence in the training set biases the loss. Additionally, collecting them did cost us some computing time, which might have been better used.  \n",
    "Conversely, some states and actions visited by $\\pi$ might be absent from the support of $\\rho$. Because of this, there are no good estimates of $Q(s,a)$ obtained from the training set, which prevent actually incrementally improving $\\pi$.  \n",
    "We discussed this in the previous chapter when we covered the importance of the behavior distribution.\n",
    "\n",
    "A simple empirical fix to this problem would be to enrich the training set incrementally, by performing rounds of data collection at every iteration of FQI, collecting samples from $(s,a)$ pairs seen by $\\pi_n$ and also exploring new actions is the corresponding states $s$.\n",
    "\n",
    "We won't implement this now and turn to a more online procedure. However, note that offline RL received a lot of attention and analysis in recent years and is still a very active field of research."
   ]
  },
  {
   "cell_type": "markdown",
   "id": "3c087212-c223-4307-aded-4c0aa93694d5",
   "metadata": {},
   "source": [
    "# Neural networks for AVI: deep Q-networks"
   ]
  },
  {
   "cell_type": "markdown",
   "id": "5aeffdac-73ec-4b06-a862-253186226357",
   "metadata": {},
   "source": [
    "## Back to AVI as a series of risk minimization problems\n",
    "\n",
    "Again, let us return to the original formulation of AVI as a sequence of supervised learning problems.\n",
    "\n",
    "<div class=\"alert alert-success\">\n",
    "\n",
    "**Approximate value iteration as a sequence of risk minimization problems**  \n",
    "$$\\pi_n \\in \\mathcal{G} Q_n,$$\n",
    "$$L_n(\\theta) = \\frac{1}{2} \\mathbb{E}_{(s,a) \\sim \\rho}\\left[ \\left( Q(s,a;\\theta) - G^{\\pi_n}_1(s,a,Q_n) \\right)^2 \\right],$$\n",
    "$$\\theta_{n+1} \\in \\arg\\min_{\\theta} L_n(\\theta),$$\n",
    "$$Q_{n+1}(s,a) = Q(s,a;\\theta_{n+1}).$$\n",
    "</div>\n",
    "\n",
    "With \n",
    "$$\\pi \\in \\mathcal{G} Q, \\Leftrightarrow \\pi(s) \\in \\arg\\max_{\\pi \\in \\Delta_A} \\mathbb{E}_{a\\sim\\pi} \\left[Q(s,a)\\right]$$\n",
    "\n",
    "And\n",
    "$$G^\\pi_1(s,a,Q) = R_0 + \\gamma Q(S_1, A_1) \\quad \\Bigg| \\quad \\begin{array}{l}S_0 = s, A_0=a\\\\ A_1 \\sim \\pi(S_1),\\\\ S_{1}\\sim p(\\cdot|S_0,A_0),\\\\ R_0 = r(S_0,A_0,S_{1}).\\end{array}$$\n",
    "\n",
    "If this risk is differentiable, ie. if $Q$ is differentiable with respect to $\\theta$, provided one can draw a mini-batch of independently and identically drawn samples $\\left\\{\\left(s_i,a_i,r_i,s'_i\\right)\\right\\}_{i\\in [1,B]}$ (either by sampling from a larger training set, or directly from the system to control), with $(s,a) \\sim \\rho(\\cdot)$ and $s',a' \\sim p(s' | s,a)\\pi(a'|s')$, then one can derive a stochastic gradient descent learning procedure and iteratively learn $\\theta_{n+1}$ as the limit of the sequence $\\theta_{k+1} \\leftarrow \\theta_{k} + \\alpha_k d_n(\\theta_{k})$ with \n",
    "$$d_n(\\theta) = \\frac{1}{B} \\sum_{i=1}^B \\left[ \\left( r_i + \\gamma Q(s_i',\\pi_n(s'_i);\\theta_{n}) - Q(s_i,a_i;\\theta) \\right) \\nabla_\\theta Q(s_i,a_i;\\theta) \\right].$$\n",
    "\n",
    "This type of SGD optimization is precisely what is done in neural networks optimization."
   ]
  },
  {
   "cell_type": "markdown",
   "id": "059fb6b4-a0cf-459e-a6a4-8b26849cb17d",
   "metadata": {},
   "source": [
    "<div class=\"alert alert-warning\">\n",
    "\n",
    "**Exercise:**  \n",
    "Do you recall what are the differences with Q-learning?\n",
    "</div>"
   ]
  },
  {
   "cell_type": "markdown",
   "id": "6f2b7f84-2472-426f-a950-ee6762e186a5",
   "metadata": {},
   "source": [
    "<details class=\"alert alert-danger\">\n",
    "    <summary markdown=\"span\"><b>Ready to see the answer? (click to expand)</b></summary>\n",
    "\n",
    "In Q-learning, there was no training set and the samples were collected on-the-fly.  \n",
    "So $B=1$. \n",
    "But also, two consecutive samples were higly correlated, breaking the iid assumption.\n",
    "</details>"
   ]
  },
  {
   "cell_type": "markdown",
   "id": "98c61654-5ad0-4ef2-8adf-0bf6663326c0",
   "metadata": {},
   "source": [
    "## Experience Replay\n",
    "\n",
    "To recover the independence assumption between samples, we can, as previously, introduce the mechanism of [*Experience Replay*](https://link.springer.com/article/10.1007/BF00992699) by storing past samples into a *Replay Memory*. When samples a required for a mini-batch gradient update, the samples are collected uniformly from the replay memory, thus mimicking an (almost) independent draw according to $\\rho(\\cdot)$."
   ]
  },
  {
   "cell_type": "markdown",
   "id": "d0da512b-2815-4def-88f7-9d3794ee81f4",
   "metadata": {},
   "source": [
    "<div class=\"alert alert-warning\">\n",
    "    \n",
    "**Exercise:**  \n",
    "Design a class for storing and sampling experience samples. Limit the size of this memory (via a FIFO mechanism) to a fixed number of samples (adapt this number to your computer's RAM). Test it by running a random policy for $2\\cdot 10^6$ time steps.\n",
    "</div>"
   ]
  },
  {
   "cell_type": "code",
   "execution_count": 22,
   "id": "01de800d-411c-4dbb-a8b3-d9d055ea9b0c",
   "metadata": {},
   "outputs": [],
   "source": [
    "# %load solutions/replay_buffer.py\n",
    "import random\n",
    "\n",
    "class ReplayBuffer:\n",
    "    def __init__(self, capacity):\n",
    "        self.capacity = capacity # capacity of the buffer\n",
    "        self.data = []\n",
    "        self.index = 0 # index of the next cell to be filled\n",
    "    def append(self, s, a, r, s_, d):\n",
    "        if len(self.data) < self.capacity:\n",
    "            self.data.append(None)\n",
    "        self.data[self.index] = (s, a, r, s_, d)\n",
    "        self.index = (self.index + 1) % self.capacity\n",
    "    def sample(self, batch_size):\n",
    "        return random.sample(self.data, batch_size)\n",
    "    def __len__(self):\n",
    "        return len(self.data)"
   ]
  },
  {
   "cell_type": "code",
   "execution_count": 23,
   "id": "b41da5fb-93fa-486c-8e29-d911499b34ce",
   "metadata": {},
   "outputs": [
    {
     "name": "stdout",
     "output_type": "stream",
     "text": [
      "Testing insertion of 2000000 samples in the replay buffer\n"
     ]
    },
    {
     "name": "stderr",
     "output_type": "stream",
     "text": [
      "100%|███████████████████████████████████████████████████████████████████████████████████████████████████████████████████████████████████████████████████████████████████████████████████████████| 2000000/2000000 [00:13<00:00, 144530.03it/s]\n"
     ]
    },
    {
     "name": "stdout",
     "output_type": "stream",
     "text": [
      "Replay buffer size: 1000000\n",
      "Testing sampling of 10000 minibatches of size 50 from the replay buffer\n"
     ]
    },
    {
     "name": "stderr",
     "output_type": "stream",
     "text": [
      "100%|████████████████████████████████████████████████████████████████████████████████████████████████████████████████████████████████████████████████████████████████████████████████████████████████| 10000/10000 [00:00<00:00, 51690.15it/s]"
     ]
    },
    {
     "name": "stdout",
     "output_type": "stream",
     "text": [
      "Example of a 2-sample minibatch [(array([-0.04715198, -0.56686926,  0.01959537,  0.83561456], dtype=float32), 0, 1.0, array([-0.05848937, -0.76225334,  0.03630767,  1.1343951 ], dtype=float32), False), (array([-0.06183295, -0.95626616,  0.07494655,  1.4412104 ], dtype=float32), 0, 1.0, array([-0.08095828, -1.1522268 ,  0.10377076,  1.7563399 ], dtype=float32), False)]\n"
     ]
    },
    {
     "name": "stderr",
     "output_type": "stream",
     "text": [
      "\n"
     ]
    }
   ],
   "source": [
    "# Testing insertion in the ReplayBuffer class\n",
    "from tqdm import trange\n",
    "import gymnasium as gym\n",
    "cartpole = gym.make('CartPole-v1', render_mode=\"rgb_array\")\n",
    "replay_buffer_size = int(1e6)\n",
    "nb_samples = int(2e6)\n",
    "\n",
    "memory = ReplayBuffer(replay_buffer_size)\n",
    "state, _ = cartpole.reset()\n",
    "print(\"Testing insertion of\", nb_samples, \"samples in the replay buffer\")\n",
    "for _ in trange(nb_samples):\n",
    "    action = cartpole.action_space.sample()\n",
    "    next_state, reward, done, trunc, _ = cartpole.step(action)\n",
    "    memory.append(state, action, reward, next_state, done)\n",
    "    if done:\n",
    "        state, _ = cartpole.reset()\n",
    "    else:\n",
    "        state = next_state\n",
    "\n",
    "print(\"Replay buffer size:\", len(memory))\n",
    "\n",
    "# Testing sampling in the ReplayBuffer class\n",
    "nb_batches = int(1e4)\n",
    "batch_size = 50\n",
    "import random\n",
    "\n",
    "print(\"Testing sampling of\", nb_batches, \"minibatches of size\", batch_size, \"from the replay buffer\")\n",
    "for _ in trange(nb_batches):\n",
    "    batch = memory.sample(batch_size)\n",
    "\n",
    "print(\"Example of a 2-sample minibatch\", memory.sample(2))"
   ]
  },
  {
   "cell_type": "markdown",
   "id": "540e145d-c025-4d8a-8c9c-cc082acde5a3",
   "metadata": {},
   "source": [
    "<div class=\"alert alert-warning\">\n",
    "    \n",
    "**Know your data structures!**\n",
    "\n",
    "Taking some time to think about what makes a good replay buffer may save you hours of puzzled head-banging. It is important to know what you expect from your replay buffer to choose the right data structure.\n",
    "\n",
    "Common mistake: we need a fixed sized memory, that works like a FIFO structure, so let's pick a [deque](https://docs.python.org/3/library/collections.html#collections.deque) (double-ended queue). That sounds fair, deques (in Python) have a fixed maximum size and constant time insertion at the beginning and the end. BUT they also have [$O(n)$ access time](https://wiki.python.org/moin/TimeComplexity) which means that for large replay buffers, sampling a minibatch may take forever.\n",
    "\n",
    "Here, what we really need is a fixed-size FIFO, with $O(1)$ insertion at the end and $O(1)$ access.\n",
    "\n",
    "This should motivate the choices made in the replay buffer class above.\n",
    "\n",
    "If you want empirical verification of the reasoning above, in the \"replay memory\" folder, you will find a short notebook enabling empirical testing of many different data structures for replay buffers.\n",
    "</div>"
   ]
  },
  {
   "cell_type": "markdown",
   "id": "5a88e4b6-d302-4e7b-bcb9-09c27a319515",
   "metadata": {},
   "source": [
    "## A deep Q-network\n",
    "\n",
    "The term Deep Q-Network was coined by the (now historical) paper **[Playing Atari with Deep Reinforcement Learning](https://arxiv.org/abs/1312.5602)** by Mnih et al. (2013) that put forward the main ideas we develop here. All those were later popularized by DeepMind's paper in Nature **[Human-level control through deep reinforcement learning](https://deepmind.com/research/publications/human-level-control-through-deep-reinforcement-learning)** by Mnih et al. (2015).\n",
    "\n",
    "Let's design a (deep) neural network that will serve as a function approximator for $Q(s,a;\\theta)$. \n",
    "\n",
    "<center><img src=\"img/dqlas.png\" height=\"15%\" width=\"15%\"></img></center>\n",
    "\n",
    "Note that since we're going to have to compute $\\max_a Q(s,a)$ and since actions are discrete, it is preferable to avoid running as many passes through the network as there are actions. Therefore, instead of the network structure above, we will prefer to use the one below.\n",
    "\n",
    "<center><img src=\"img/dqls.png\" height=\"30%\" width=\"30%\"></img></center>"
   ]
  },
  {
   "cell_type": "markdown",
   "id": "0f76cdcd-fd1a-4648-b7fe-ff0aed3015f2",
   "metadata": {},
   "source": [
    "<div class=\"alert alert-warning\">\n",
    "    \n",
    "**Exercise:**  \n",
    "Declare a simple neural network for our $Q$ function with 2 hidden layers and 24 neurons on each layer.\n",
    "</div>"
   ]
  },
  {
   "cell_type": "code",
   "execution_count": 24,
   "id": "be55baed-c41a-43c1-8988-4c22838b1516",
   "metadata": {},
   "outputs": [],
   "source": [
    "import torch\n",
    "import torch.nn as nn\n",
    "import gymnasium as gym\n",
    "cartpole = gym.make('CartPole-v1', render_mode=\"rgb_array\")\n",
    "\n",
    "device = torch.device(\"cuda\" if torch.cuda.is_available() else \"cpu\")\n",
    "\n",
    "state_dim = cartpole.observation_space.shape[0]\n",
    "n_action = cartpole.action_space.n \n",
    "nb_neurons=24\n",
    "\n",
    "DQN = torch.nn.Sequential(nn.Linear(state_dim, nb_neurons),\n",
    "                          nn.ReLU(),\n",
    "                          nn.Linear(nb_neurons, nb_neurons),\n",
    "                          nn.ReLU(), \n",
    "                          nn.Linear(nb_neurons, n_action)).to(device)"
   ]
  },
  {
   "cell_type": "markdown",
   "id": "d815c8a5-1c51-410a-8f1a-0650b8d24c26",
   "metadata": {},
   "source": [
    "We're almost there. Now we can implement the algorithm that:\n",
    "- takes $\\epsilon$-greedy actions with respect to $Q$\n",
    "- stores samples in the replay buffer\n",
    "- at each interaction step with the environment, draws a mini-batch, computes the target values for each $(s,a)$ and takes a gradient step.\n",
    "- repeats"
   ]
  },
  {
   "cell_type": "markdown",
   "id": "5475398b-6d12-4cc4-98c4-ca21937d92d5",
   "metadata": {},
   "source": [
    "<div class=\"alert alert-warning\">\n",
    "    \n",
    "**Exercise:**  \n",
    "Write this algorithm's pseudo-code.  \n",
    "You can take inspiration from the algorithm on page 5 of **[Playing Atari with Deep Reinforcement Learning](https://arxiv.org/abs/1312.5602)**.\n",
    "</div>\n",
    "\n"
   ]
  },
  {
   "cell_type": "markdown",
   "id": "8fb22414-b1a3-4660-8d24-7d211c0dbfb1",
   "metadata": {},
   "source": [
    "<details class=\"alert alert-danger\">\n",
    "    <summary markdown=\"span\"><b>Ready to see the answer? (click to expand)</b></summary>\n",
    "\n",
    "         state = init()\n",
    "         loop:\n",
    "            action = greedy_action(DQN) or random_action()\n",
    "            new_state, reward = step(state, action)\n",
    "            replay_memory.add(state, action, reward, new_state)\n",
    "            minibatch = replay_memory.sample(minibatch_size)\n",
    "            X_train = Y_train = []\n",
    "            for (s,a,r,s') in minibatch:\n",
    "                Q  = DQN.predict(s)\n",
    "                Q' = DQN.predict(s')\n",
    "                if non-terminal(s'): \n",
    "                    update = r + gamma * max(Q')    \n",
    "                else:  \n",
    "                    update = r\n",
    "                Q[a] = update\n",
    "                X_train.append(s)\n",
    "                Y_train.append(Q)\n",
    "            DQN.train_one_step(X_train,Y_train)\n",
    "            state = new_state\n",
    "</details>"
   ]
  },
  {
   "cell_type": "markdown",
   "id": "feecf188-38b8-45d0-b574-478f04aef56d",
   "metadata": {},
   "source": [
    "Now we can proceed with the implementation. This series of exercises break it down into small steps.\n",
    "\n",
    "<div class=\"alert alert-warning\">\n",
    "    \n",
    "**Exercise:**  \n",
    "It will actually be useful to have separate torch.Tensor for the each element type in the sampled minibatch.  \n",
    "That is one Tensor for a minibatch of states, another for actions, etc.\n",
    "Let's redefine the sample function of our replay buffer class to that end.\n",
    "</div>"
   ]
  },
  {
   "cell_type": "code",
   "execution_count": 25,
   "id": "1d4be28c-7391-438b-ab90-58df9b13f017",
   "metadata": {},
   "outputs": [],
   "source": [
    "# %load solutions/replay_buffer2.py\n",
    "import random\n",
    "import torch\n",
    "import numpy as np\n",
    "\n",
    "class ReplayBuffer:\n",
    "    def __init__(self, capacity, device):\n",
    "        self.capacity = capacity # capacity of the buffer\n",
    "        self.data = []\n",
    "        self.index = 0 # index of the next cell to be filled\n",
    "        self.device = device\n",
    "    def append(self, s, a, r, s_, d):\n",
    "        if len(self.data) < self.capacity:\n",
    "            self.data.append(None)\n",
    "        self.data[self.index] = (s, a, r, s_, d)\n",
    "        self.index = (self.index + 1) % self.capacity\n",
    "    def sample(self, batch_size):\n",
    "        batch = random.sample(self.data, batch_size)\n",
    "        return list(map(lambda x:torch.Tensor(np.array(x)).to(self.device), list(zip(*batch))))\n",
    "    def __len__(self):\n",
    "        return len(self.data)"
   ]
  },
  {
   "cell_type": "markdown",
   "id": "abc31060-8df4-4c5e-a96d-7f2e0163b6f0",
   "metadata": {},
   "source": [
    "<div class=\"alert alert-warning\">\n",
    "    \n",
    "**Exercise:**  \n",
    "Define a utility function that computes the greedy action from a DQN and a batch of states.\n",
    "</div>"
   ]
  },
  {
   "cell_type": "code",
   "execution_count": 26,
   "id": "0887978e-7aa2-4b51-8a26-74ca701e8c9a",
   "metadata": {},
   "outputs": [],
   "source": [
    "# %load solutions/dqn_greedy_action.py\n",
    "import torch\n",
    "\n",
    "def greedy_action(network, state):\n",
    "    device = \"cuda\" if next(network.parameters()).is_cuda else \"cpu\"\n",
    "    with torch.no_grad():\n",
    "        Q = network(torch.Tensor(state).unsqueeze(0).to(device))\n",
    "        return torch.argmax(Q).item()"
   ]
  },
  {
   "cell_type": "markdown",
   "id": "1c2d0e8b-8bb9-4aec-a539-d02d2884da56",
   "metadata": {},
   "source": [
    "<div class=\"alert alert-warning\">\n",
    "    \n",
    "**Exercise:**  \n",
    "Write a class that keeps a replay buffer as internal attribute and implements the pseudo-code you wrote earlier.  \n",
    "Here are a few tips:\n",
    "- To ensure exploration, take a constant $\\epsilon_{max}$ value during $\\tau_{delay}$ time steps, then substract $\\epsilon_{step}$ from $\\epsilon$ at every time step until you reach time $\\tau_{period}$.\n",
    "- A common optimizer (instead of plain SGD) is ADAM (or RMSprop).\n",
    "- Assume the interaction with the environment will be episodic. After each training episode store the episode's cumulated return for monitoring.\n",
    "\n",
    "Write your class but don't run this code just yet!\n",
    "</div>"
   ]
  },
  {
   "cell_type": "code",
   "execution_count": 27,
   "id": "5e88c2fd-ccc3-45da-af5a-306d5a476d19",
   "metadata": {},
   "outputs": [],
   "source": [
    "import numpy as np\n",
    "import torch\n",
    "import torch.nn as nn\n",
    "from solutions.replay_buffer2 import ReplayBuffer\n",
    "from solutions.dqn_greedy_action import greedy_action\n",
    "\n",
    "class dqn_agent:\n",
    "    def __init__(self, config, model):\n",
    "        device = \"cuda\" if next(model.parameters()).is_cuda else \"cpu\"\n",
    "        self.gamma = config['gamma']\n",
    "        self.batch_size = config['batch_size']\n",
    "        self.nb_actions = config['nb_actions']\n",
    "        self.memory = ReplayBuffer(config['buffer_size'], device)\n",
    "        self.epsilon_max = config['epsilon_max']\n",
    "        self.epsilon_min = config['epsilon_min']\n",
    "        self.epsilon_stop = config['epsilon_decay_period']\n",
    "        self.epsilon_delay = config['epsilon_delay_decay']\n",
    "        self.epsilon_step = (self.epsilon_max-self.epsilon_min)/self.epsilon_stop\n",
    "        self.model = model \n",
    "        self.criterion = torch.nn.MSELoss()\n",
    "        self.optimizer = torch.optim.Adam(self.model.parameters(), lr=config['learning_rate'])\n",
    "    \n",
    "    def gradient_step(self):\n",
    "        if len(self.memory) > self.batch_size:\n",
    "            X, A, R, Y, D = self.memory.sample(self.batch_size)\n",
    "            QYmax = self.model(Y).max(1)[0].detach()\n",
    "            #update = torch.addcmul(R, self.gamma, 1-D, QYmax)\n",
    "            update = torch.addcmul(R, 1-D, QYmax, value=self.gamma)\n",
    "            QXA = self.model(X).gather(1, A.to(torch.long).unsqueeze(1))\n",
    "            loss = self.criterion(QXA, update.unsqueeze(1))\n",
    "            self.optimizer.zero_grad()\n",
    "            loss.backward()\n",
    "            self.optimizer.step() \n",
    "    \n",
    "    def train(self, env, max_episode):\n",
    "        episode_return = []\n",
    "        episode = 0\n",
    "        episode_cum_reward = 0\n",
    "        state, _ = env.reset()\n",
    "        epsilon = self.epsilon_max\n",
    "        step = 0\n",
    "\n",
    "        while episode < max_episode:\n",
    "            # update epsilon\n",
    "            if step > self.epsilon_delay:\n",
    "                epsilon = max(self.epsilon_min, epsilon-self.epsilon_step)\n",
    "\n",
    "            # select epsilon-greedy action\n",
    "            if np.random.rand() < epsilon:\n",
    "                action = env.action_space.sample()\n",
    "            else:\n",
    "                action = greedy_action(self.model, state)\n",
    "\n",
    "            # step\n",
    "            next_state, reward, done, trunc, _ = env.step(action)\n",
    "            self.memory.append(state, action, reward, next_state, done)\n",
    "            episode_cum_reward += reward\n",
    "\n",
    "            # train\n",
    "            self.gradient_step()\n",
    "\n",
    "            # next transition\n",
    "            step += 1\n",
    "            if done:\n",
    "                episode += 1\n",
    "                print(\"Episode \", '{:3d}'.format(episode), \n",
    "                      \", epsilon \", '{:6.2f}'.format(epsilon), \n",
    "                      \", batch size \", '{:5d}'.format(len(self.memory)), \n",
    "                      \", episode return \", '{:4.1f}'.format(episode_cum_reward),\n",
    "                      sep='')\n",
    "                state, _ = env.reset()\n",
    "                episode_return.append(episode_cum_reward)\n",
    "                episode_cum_reward = 0\n",
    "            else:\n",
    "                state = next_state\n",
    "\n",
    "        return episode_return"
   ]
  },
  {
   "cell_type": "markdown",
   "id": "2cf48bd3-2d89-43d2-9bf1-e76096021180",
   "metadata": {},
   "source": [
    "<div class=\"alert alert-warning\">\n",
    "    \n",
    "**Exercise:**  \n",
    "Train for 200 episodes on CartPole, with a learning rate of $0.001$, abatch size of $20$, $\\gamma=0.95$ and a replay buffer of maximum $1000000$ samples. Take $\\epsilon_{max}=1$, $\\epsilon_{min}=0.01$, $\\tau_{delay}=20$ and $\\tau_{period}=1000$.\n",
    "</div>"
   ]
  },
  {
   "cell_type": "code",
   "execution_count": 28,
   "id": "f4cd099b-b016-41de-a549-e82c16281148",
   "metadata": {},
   "outputs": [
    {
     "name": "stdout",
     "output_type": "stream",
     "text": [
      "Episode   1, epsilon   0.99, batch size    30, episode return 30.0\n",
      "Episode   2, epsilon   0.97, batch size    50, episode return 20.0\n",
      "Episode   3, epsilon   0.96, batch size    62, episode return 12.0\n",
      "Episode   4, epsilon   0.89, batch size   137, episode return 75.0\n",
      "Episode   5, epsilon   0.87, batch size   148, episode return 11.0\n",
      "Episode   6, epsilon   0.86, batch size   163, episode return 15.0\n",
      "Episode   7, epsilon   0.82, batch size   207, episode return 44.0\n",
      "Episode   8, epsilon   0.79, batch size   234, episode return 27.0\n",
      "Episode   9, epsilon   0.70, batch size   321, episode return 87.0\n",
      "Episode  10, epsilon   0.69, batch size   333, episode return 12.0\n",
      "Episode  11, epsilon   0.66, batch size   362, episode return 29.0\n",
      "Episode  12, epsilon   0.64, batch size   385, episode return 23.0\n",
      "Episode  13, epsilon   0.61, batch size   413, episode return 28.0\n",
      "Episode  14, epsilon   0.60, batch size   429, episode return 16.0\n",
      "Episode  15, epsilon   0.57, batch size   458, episode return 29.0\n",
      "Episode  16, epsilon   0.53, batch size   500, episode return 42.0\n",
      "Episode  17, epsilon   0.52, batch size   509, episode return  9.0\n",
      "Episode  18, epsilon   0.51, batch size   520, episode return 11.0\n",
      "Episode  19, epsilon   0.49, batch size   535, episode return 15.0\n",
      "Episode  20, epsilon   0.48, batch size   543, episode return  8.0\n",
      "Episode  21, epsilon   0.47, batch size   556, episode return 13.0\n",
      "Episode  22, epsilon   0.45, batch size   580, episode return 24.0\n",
      "Episode  23, epsilon   0.44, batch size   590, episode return 10.0\n",
      "Episode  24, epsilon   0.42, batch size   602, episode return 12.0\n",
      "Episode  25, epsilon   0.41, batch size   613, episode return 11.0\n",
      "Episode  26, epsilon   0.40, batch size   625, episode return 12.0\n",
      "Episode  27, epsilon   0.39, batch size   634, episode return  9.0\n",
      "Episode  28, epsilon   0.38, batch size   646, episode return 12.0\n",
      "Episode  29, epsilon   0.37, batch size   656, episode return 10.0\n",
      "Episode  30, epsilon   0.36, batch size   666, episode return 10.0\n",
      "Episode  31, epsilon   0.35, batch size   679, episode return 13.0\n",
      "Episode  32, epsilon   0.34, batch size   689, episode return 10.0\n",
      "Episode  33, epsilon   0.33, batch size   701, episode return 12.0\n",
      "Episode  34, epsilon   0.32, batch size   711, episode return 10.0\n",
      "Episode  35, epsilon   0.31, batch size   721, episode return 10.0\n",
      "Episode  36, epsilon   0.29, batch size   735, episode return 14.0\n",
      "Episode  37, epsilon   0.24, batch size   784, episode return 49.0\n",
      "Episode  38, epsilon   0.23, batch size   794, episode return 10.0\n",
      "Episode  39, epsilon   0.21, batch size   821, episode return 27.0\n",
      "Episode  40, epsilon   0.20, batch size   834, episode return 13.0\n",
      "Episode  41, epsilon   0.18, batch size   847, episode return 13.0\n",
      "Episode  42, epsilon   0.17, batch size   864, episode return 17.0\n",
      "Episode  43, epsilon   0.15, batch size   877, episode return 13.0\n",
      "Episode  44, epsilon   0.14, batch size   891, episode return 14.0\n",
      "Episode  45, epsilon   0.12, batch size   910, episode return 19.0\n",
      "Episode  46, epsilon   0.08, batch size   952, episode return 42.0\n",
      "Episode  47, epsilon   0.06, batch size   967, episode return 15.0\n",
      "Episode  48, epsilon   0.05, batch size   982, episode return 15.0\n",
      "Episode  49, epsilon   0.03, batch size  1001, episode return 19.0\n",
      "Episode  50, epsilon   0.01, batch size  1036, episode return 35.0\n",
      "Episode  51, epsilon   0.01, batch size  1065, episode return 29.0\n",
      "Episode  52, epsilon   0.01, batch size  1091, episode return 26.0\n",
      "Episode  53, epsilon   0.01, batch size  1116, episode return 25.0\n",
      "Episode  54, epsilon   0.01, batch size  1160, episode return 44.0\n",
      "Episode  55, epsilon   0.01, batch size  1196, episode return 36.0\n",
      "Episode  56, epsilon   0.01, batch size  1255, episode return 59.0\n",
      "Episode  57, epsilon   0.01, batch size  1283, episode return 28.0\n",
      "Episode  58, epsilon   0.01, batch size  1307, episode return 24.0\n",
      "Episode  59, epsilon   0.01, batch size  1336, episode return 29.0\n",
      "Episode  60, epsilon   0.01, batch size  1379, episode return 43.0\n",
      "Episode  61, epsilon   0.01, batch size  1486, episode return 107.0\n",
      "Episode  62, epsilon   0.01, batch size  1535, episode return 49.0\n",
      "Episode  63, epsilon   0.01, batch size  1564, episode return 29.0\n",
      "Episode  64, epsilon   0.01, batch size  1601, episode return 37.0\n",
      "Episode  65, epsilon   0.01, batch size  1661, episode return 60.0\n",
      "Episode  66, epsilon   0.01, batch size  1757, episode return 96.0\n",
      "Episode  67, epsilon   0.01, batch size  1834, episode return 77.0\n",
      "Episode  68, epsilon   0.01, batch size  1894, episode return 60.0\n",
      "Episode  69, epsilon   0.01, batch size  1949, episode return 55.0\n",
      "Episode  70, epsilon   0.01, batch size  2076, episode return 127.0\n",
      "Episode  71, epsilon   0.01, batch size  2216, episode return 140.0\n",
      "Episode  72, epsilon   0.01, batch size  2499, episode return 283.0\n",
      "Episode  73, epsilon   0.01, batch size  2647, episode return 148.0\n",
      "Episode  74, epsilon   0.01, batch size  2732, episode return 85.0\n",
      "Episode  75, epsilon   0.01, batch size  2813, episode return 81.0\n",
      "Episode  76, epsilon   0.01, batch size  2933, episode return 120.0\n",
      "Episode  77, epsilon   0.01, batch size  3029, episode return 96.0\n",
      "Episode  78, epsilon   0.01, batch size  3104, episode return 75.0\n",
      "Episode  79, epsilon   0.01, batch size  3312, episode return 208.0\n",
      "Episode  80, epsilon   0.01, batch size  3414, episode return 102.0\n",
      "Episode  81, epsilon   0.01, batch size  3512, episode return 98.0\n",
      "Episode  82, epsilon   0.01, batch size  3661, episode return 149.0\n",
      "Episode  83, epsilon   0.01, batch size  3809, episode return 148.0\n",
      "Episode  84, epsilon   0.01, batch size  4047, episode return 238.0\n",
      "Episode  85, epsilon   0.01, batch size  4250, episode return 203.0\n",
      "Episode  86, epsilon   0.01, batch size  4454, episode return 204.0\n",
      "Episode  87, epsilon   0.01, batch size  4644, episode return 190.0\n",
      "Episode  88, epsilon   0.01, batch size  5149, episode return 505.0\n",
      "Episode  89, epsilon   0.01, batch size  5391, episode return 242.0\n",
      "Episode  90, epsilon   0.01, batch size  5572, episode return 181.0\n",
      "Episode  91, epsilon   0.01, batch size  5806, episode return 234.0\n",
      "Episode  92, epsilon   0.01, batch size  6090, episode return 284.0\n",
      "Episode  93, epsilon   0.01, batch size  6402, episode return 312.0\n",
      "Episode  94, epsilon   0.01, batch size  6974, episode return 572.0\n",
      "Episode  95, epsilon   0.01, batch size  7249, episode return 275.0\n",
      "Episode  96, epsilon   0.01, batch size  7502, episode return 253.0\n",
      "Episode  97, epsilon   0.01, batch size  7752, episode return 250.0\n",
      "Episode  98, epsilon   0.01, batch size  8036, episode return 284.0\n",
      "Episode  99, epsilon   0.01, batch size  8367, episode return 331.0\n",
      "Episode 100, epsilon   0.01, batch size  8619, episode return 252.0\n",
      "Episode 101, epsilon   0.01, batch size  8882, episode return 263.0\n",
      "Episode 102, epsilon   0.01, batch size  9120, episode return 238.0\n",
      "Episode 103, epsilon   0.01, batch size  9514, episode return 394.0\n",
      "Episode 104, epsilon   0.01, batch size  9786, episode return 272.0\n",
      "Episode 105, epsilon   0.01, batch size  9991, episode return 205.0\n",
      "Episode 106, epsilon   0.01, batch size 10199, episode return 208.0\n",
      "Episode 107, epsilon   0.01, batch size 10450, episode return 251.0\n",
      "Episode 108, epsilon   0.01, batch size 10783, episode return 333.0\n",
      "Episode 109, epsilon   0.01, batch size 10996, episode return 213.0\n",
      "Episode 110, epsilon   0.01, batch size 11176, episode return 180.0\n",
      "Episode 111, epsilon   0.01, batch size 11418, episode return 242.0\n",
      "Episode 112, epsilon   0.01, batch size 11658, episode return 240.0\n",
      "Episode 113, epsilon   0.01, batch size 11837, episode return 179.0\n",
      "Episode 114, epsilon   0.01, batch size 12032, episode return 195.0\n",
      "Episode 115, epsilon   0.01, batch size 12250, episode return 218.0\n",
      "Episode 116, epsilon   0.01, batch size 12463, episode return 213.0\n",
      "Episode 117, epsilon   0.01, batch size 12731, episode return 268.0\n",
      "Episode 118, epsilon   0.01, batch size 12938, episode return 207.0\n",
      "Episode 119, epsilon   0.01, batch size 13171, episode return 233.0\n",
      "Episode 120, epsilon   0.01, batch size 13401, episode return 230.0\n",
      "Episode 121, epsilon   0.01, batch size 13653, episode return 252.0\n",
      "Episode 122, epsilon   0.01, batch size 13968, episode return 315.0\n",
      "Episode 123, epsilon   0.01, batch size 14204, episode return 236.0\n",
      "Episode 124, epsilon   0.01, batch size 14368, episode return 164.0\n",
      "Episode 125, epsilon   0.01, batch size 14595, episode return 227.0\n",
      "Episode 126, epsilon   0.01, batch size 14913, episode return 318.0\n",
      "Episode 127, epsilon   0.01, batch size 15124, episode return 211.0\n",
      "Episode 128, epsilon   0.01, batch size 15351, episode return 227.0\n",
      "Episode 129, epsilon   0.01, batch size 15513, episode return 162.0\n",
      "Episode 130, epsilon   0.01, batch size 15736, episode return 223.0\n",
      "Episode 131, epsilon   0.01, batch size 16023, episode return 287.0\n",
      "Episode 132, epsilon   0.01, batch size 16238, episode return 215.0\n",
      "Episode 133, epsilon   0.01, batch size 16408, episode return 170.0\n",
      "Episode 134, epsilon   0.01, batch size 16613, episode return 205.0\n",
      "Episode 135, epsilon   0.01, batch size 16864, episode return 251.0\n",
      "Episode 136, epsilon   0.01, batch size 17103, episode return 239.0\n",
      "Episode 137, epsilon   0.01, batch size 17270, episode return 167.0\n",
      "Episode 138, epsilon   0.01, batch size 17660, episode return 390.0\n",
      "Episode 139, epsilon   0.01, batch size 17876, episode return 216.0\n",
      "Episode 140, epsilon   0.01, batch size 18238, episode return 362.0\n",
      "Episode 141, epsilon   0.01, batch size 18522, episode return 284.0\n",
      "Episode 142, epsilon   0.01, batch size 18759, episode return 237.0\n",
      "Episode 143, epsilon   0.01, batch size 18953, episode return 194.0\n",
      "Episode 144, epsilon   0.01, batch size 19167, episode return 214.0\n",
      "Episode 145, epsilon   0.01, batch size 19430, episode return 263.0\n",
      "Episode 146, epsilon   0.01, batch size 19679, episode return 249.0\n",
      "Episode 147, epsilon   0.01, batch size 19940, episode return 261.0\n",
      "Episode 148, epsilon   0.01, batch size 20151, episode return 211.0\n",
      "Episode 149, epsilon   0.01, batch size 20351, episode return 200.0\n",
      "Episode 150, epsilon   0.01, batch size 20570, episode return 219.0\n",
      "Episode 151, epsilon   0.01, batch size 20744, episode return 174.0\n",
      "Episode 152, epsilon   0.01, batch size 20997, episode return 253.0\n",
      "Episode 153, epsilon   0.01, batch size 21225, episode return 228.0\n",
      "Episode 154, epsilon   0.01, batch size 21486, episode return 261.0\n",
      "Episode 155, epsilon   0.01, batch size 21814, episode return 328.0\n",
      "Episode 156, epsilon   0.01, batch size 22085, episode return 271.0\n",
      "Episode 157, epsilon   0.01, batch size 22294, episode return 209.0\n",
      "Episode 158, epsilon   0.01, batch size 22676, episode return 382.0\n",
      "Episode 159, epsilon   0.01, batch size 22849, episode return 173.0\n",
      "Episode 160, epsilon   0.01, batch size 23047, episode return 198.0\n",
      "Episode 161, epsilon   0.01, batch size 23261, episode return 214.0\n",
      "Episode 162, epsilon   0.01, batch size 23472, episode return 211.0\n",
      "Episode 163, epsilon   0.01, batch size 23658, episode return 186.0\n",
      "Episode 164, epsilon   0.01, batch size 23953, episode return 295.0\n",
      "Episode 165, epsilon   0.01, batch size 24231, episode return 278.0\n",
      "Episode 166, epsilon   0.01, batch size 24412, episode return 181.0\n",
      "Episode 167, epsilon   0.01, batch size 24704, episode return 292.0\n",
      "Episode 168, epsilon   0.01, batch size 24904, episode return 200.0\n",
      "Episode 169, epsilon   0.01, batch size 25107, episode return 203.0\n",
      "Episode 170, epsilon   0.01, batch size 25279, episode return 172.0\n",
      "Episode 171, epsilon   0.01, batch size 25557, episode return 278.0\n",
      "Episode 172, epsilon   0.01, batch size 25874, episode return 317.0\n",
      "Episode 173, epsilon   0.01, batch size 26090, episode return 216.0\n",
      "Episode 174, epsilon   0.01, batch size 26288, episode return 198.0\n",
      "Episode 175, epsilon   0.01, batch size 26574, episode return 286.0\n",
      "Episode 176, epsilon   0.01, batch size 26987, episode return 413.0\n",
      "Episode 177, epsilon   0.01, batch size 27242, episode return 255.0\n",
      "Episode 178, epsilon   0.01, batch size 27401, episode return 159.0\n",
      "Episode 179, epsilon   0.01, batch size 27647, episode return 246.0\n",
      "Episode 180, epsilon   0.01, batch size 27850, episode return 203.0\n",
      "Episode 181, epsilon   0.01, batch size 28019, episode return 169.0\n",
      "Episode 182, epsilon   0.01, batch size 28311, episode return 292.0\n",
      "Episode 183, epsilon   0.01, batch size 28513, episode return 202.0\n",
      "Episode 184, epsilon   0.01, batch size 28722, episode return 209.0\n",
      "Episode 185, epsilon   0.01, batch size 28944, episode return 222.0\n",
      "Episode 186, epsilon   0.01, batch size 29153, episode return 209.0\n",
      "Episode 187, epsilon   0.01, batch size 29422, episode return 269.0\n",
      "Episode 188, epsilon   0.01, batch size 29629, episode return 207.0\n",
      "Episode 189, epsilon   0.01, batch size 29874, episode return 245.0\n",
      "Episode 190, epsilon   0.01, batch size 30081, episode return 207.0\n",
      "Episode 191, epsilon   0.01, batch size 30304, episode return 223.0\n",
      "Episode 192, epsilon   0.01, batch size 30597, episode return 293.0\n",
      "Episode 193, epsilon   0.01, batch size 30777, episode return 180.0\n",
      "Episode 194, epsilon   0.01, batch size 31039, episode return 262.0\n",
      "Episode 195, epsilon   0.01, batch size 31204, episode return 165.0\n",
      "Episode 196, epsilon   0.01, batch size 31344, episode return 140.0\n",
      "Episode 197, epsilon   0.01, batch size 31504, episode return 160.0\n",
      "Episode 198, epsilon   0.01, batch size 31720, episode return 216.0\n",
      "Episode 199, epsilon   0.01, batch size 32071, episode return 351.0\n",
      "Episode 200, epsilon   0.01, batch size 32239, episode return 168.0\n"
     ]
    },
    {
     "data": {
      "text/plain": [
       "[<matplotlib.lines.Line2D at 0x7f3838543490>]"
      ]
     },
     "execution_count": 28,
     "metadata": {},
     "output_type": "execute_result"
    },
    {
     "data": {
      "image/png": "[encoded data removed]",
      "text/plain": [
       "<Figure size 640x480 with 1 Axes>"
      ]
     },
     "metadata": {},
     "output_type": "display_data"
    }
   ],
   "source": [
    "import gymnasium as gym\n",
    "cartpole = gym.make('CartPole-v1', render_mode=\"rgb_array\")\n",
    "import torch\n",
    "import torch.nn as nn\n",
    "import matplotlib.pyplot as plt\n",
    "device = torch.device(\"cuda\" if torch.cuda.is_available() else \"cpu\")\n",
    "\n",
    "# Declare network\n",
    "state_dim = cartpole.observation_space.shape[0]\n",
    "n_action = cartpole.action_space.n \n",
    "nb_neurons=24\n",
    "DQN = torch.nn.Sequential(nn.Linear(state_dim, nb_neurons),\n",
    "                          nn.ReLU(),\n",
    "                          nn.Linear(nb_neurons, nb_neurons),\n",
    "                          nn.ReLU(), \n",
    "                          nn.Linear(nb_neurons, n_action)).to(device)\n",
    "\n",
    "# DQN config\n",
    "config = {'nb_actions': cartpole.action_space.n,\n",
    "          'learning_rate': 0.001,\n",
    "          'gamma': 0.95,\n",
    "          'buffer_size': 1000000,\n",
    "          'epsilon_min': 0.01,\n",
    "          'epsilon_max': 1.,\n",
    "          'epsilon_decay_period': 1000,\n",
    "          'epsilon_delay_decay': 20,\n",
    "          'batch_size': 20}\n",
    "\n",
    "# Train agent\n",
    "agent = dqn_agent(config, DQN)\n",
    "scores = agent.train(cartpole, 200)\n",
    "plt.plot(scores);"
   ]
  },
  {
   "cell_type": "markdown",
   "id": "1291d6a4-d1f6-476f-87aa-e72c52016657",
   "metadata": {},
   "source": [
    "<div class=\"alert alert-warning\">\n",
    "\n",
    "**Exercise:**  \n",
    "Observe how the learned policy behaves.\n",
    "</div>"
   ]
  },
  {
   "cell_type": "code",
   "execution_count": 29,
   "id": "18c25b77-25e2-4064-9605-20b818f7a83a",
   "metadata": {},
   "outputs": [],
   "source": [
    "import gymnasium as gym\n",
    "from solutions.dqn_greedy_action import greedy_action\n",
    "\n",
    "cartpole = gym.make('CartPole-v1', render_mode=\"human\")\n",
    "s,_ = cartpole.reset()\n",
    "for t in range(1000):\n",
    "    a = greedy_action(DQN,s)\n",
    "    s2,r,d,trunc,_ = cartpole.step(a)\n",
    "    cartpole.render()\n",
    "    s = s2\n",
    "    if d:\n",
    "        break\n",
    "\n",
    "cartpole.close()"
   ]
  },
  {
   "cell_type": "markdown",
   "id": "da3d0235-a418-4098-845b-9aac0fc77478",
   "metadata": {},
   "source": [
    "## Target networks\n",
    "\n",
    "Let's take a step back. In the end, we have done something quite similar to Q-learning: at every iteration of AVI, the $Q_{n+1} = \\mathcal{A}T^* Q_n$ we compute is obtained by taking a single gradient step in the direction of $T^* Q_n$. This enabled having a single network in memory, and using it to bootstrap its own training samples.\n",
    "\n",
    "A single gradient step makes for a poor function approximator. In turn, the sequence of $Q_n$ functions might be quite unstable and noisy, in particular with environments that have large variance in $s'$ and $r$ (which is not the case for the cart-pole environment). This can be greatly improved by taking several gradient steps on a given loss function $L_n$, instead of taking a single step and changing the loss function after each sample. This idea is the same as that of delayed updates that we introduced in the chapter on temporal difference learning. \n",
    "\n",
    "So, instead of having a single network, we wish to keep $Q_n$ in memory so that we can refine our approximation $Q_{n+1}$.\n",
    "\n",
    "In practice, this is achieved by the introduction of a *target network* whose parameters are noted $\\theta^-$, and who plays the role of $Q_n$ when learning $Q_{n+1}$. \n",
    "Surprisingly and despite its straightforward roots in AVI, this idea was not implemented in the 2013 **[Playing Atari with Deep Reinforcement Learning](https://arxiv.org/abs/1312.5602)** paper which introduced DQN. One had to wait for the 2015 **[Human-level control through deep reinforcement learning](https://deepmind.com/research/publications/human-level-control-through-deep-reinforcement-learning)** paper to see the introduction of target networks. So the loss of DQN with a target network is:\n",
    "$$L(\\theta) = \\mathbb{E}_{s,a,r,s'} \\left[ \\left( r + \\gamma \\max_{a'} Q(s',a',\\theta^-) - Q(s,a;\\theta) \\right) ^2 \\right],$$\n",
    "and the target network parameters $\\theta^-$ are only updated with the Q-network parameters $\\theta_n$ every $C$ steps and are held fixed between individual updates.\n",
    "\n",
    "Note that more recent approaches smooth out this accumulation process by defining an exponential moving average update at every time step, of the form:\n",
    "$$\\theta^- \\leftarrow \\tau \\theta + (1-\\tau) \\theta^-.$$"
   ]
  },
  {
   "cell_type": "markdown",
   "id": "eaefe962-bbbe-4b54-ab24-298edc429bf0",
   "metadata": {},
   "source": [
    "<div class=\"alert alert-warning\">\n",
    "\n",
    "**Exercise:**  \n",
    "Is this the same thing as taking several gradient steps after each sample?\n",
    "</div>"
   ]
  },
  {
   "cell_type": "markdown",
   "id": "5f834926-f623-4610-896b-f399c01b5758",
   "metadata": {},
   "source": [
    "<details class=\"alert alert-danger\">\n",
    "    <summary markdown=\"span\"><b>Ready to see the answer? (click to expand)</b></summary>\n",
    "\n",
    "Beware, here be dragons!   \n",
    "\n",
    "No, this is not the same thing. At all.\n",
    "By synchronizing gradient steps, we make sure the replay buffer always tracks the behavior distribution of the current policy. That is: the replay buffer features samples that correspond to trying greedy or exploratory actions in states which are likely to be encountered, and hence, it contains crucial information for policy improvement.\n",
    "\n",
    "Here, by using target networks, we don't break this synchronization. We retain it as we update $\\theta$. We simply allow $Q_\\theta$ to better fit $T^* Q_n$ before we move on to the next iteration of AVI.\n",
    "\n",
    "Conversely, taking several gradient steps on $L_n$ without collecting new data implies taking the risk that the behavior policy's state distribution drifts away from the replay buffer's empirical distribution. In turn, this leads to the risk that gradient updates after the first one are ill-informed. In very easy environments (eg. when state space coverage is rather easy to achieve, like in cart-pole), this can be benign and go unnoticed. But beware: in many difficult situations (eg. when the environment is difficult to explore, when stochasticity is high, when state distributions change quickly with parameter updates, etc.) this can quickly lead to policies that make no sense and eventually perform really badly.\n",
    "\n",
    "An interesting analysis of this dependency can be found in the **[The Difficulty of Passive Learning in Deep Reinforcement Learning](https://openreview.net/forum?id=nPHA8fGicZk)** paper by Ostrovski et al. (2021).\n",
    "</details>"
   ]
  },
  {
   "cell_type": "markdown",
   "id": "fb546bcc-5a81-4017-8df0-95a6c72e1cc4",
   "metadata": {},
   "source": [
    "## Losses and optimizers\n",
    "\n",
    "It might seem trivial, but the question of which optimizer to choose is quite open in RL. Most common choices are RMSprop or Adam (with, sometimes, carefully chosen hyperparameters). For the example of CartPole, it seems Adam with default parameters works better, but that's not a general rule.\n",
    "\n",
    "Another common pratice to stabilize learning is to clip the value of the loss' gradient between $-1$ and $1$. This is not such an uncommon trick, it actually amounts to using an L2 loss for values of the loss between $-1$ and $1$ and an L1 loss outside of this domain. This is also know as the [Huber Loss](https://en.wikipedia.org/wiki/Huber_loss) or the [smooth L1 loss](https://pytorch.org/docs/stable/nn.html#smoothl1loss)."
   ]
  },
  {
   "cell_type": "markdown",
   "id": "31df8020-5f4b-4db7-840d-9ce37520ec33",
   "metadata": {},
   "source": [
    "<div class=\"alert alert-warning\">\n",
    "\n",
    "**Exercise:**  \n",
    "Modify the previous `dqn_agent` class to include a target network, with an option to perform periodic updates or moving average updates, the possibility to take several gradient steps after each sample, and options for choosing the loss and the optimizer.\n",
    "</div>"
   ]
  },
  {
   "cell_type": "code",
   "execution_count": 1,
   "id": "a797de01-ffe8-46f0-9bb4-8656fd8e618d",
   "metadata": {},
   "outputs": [],
   "source": [
    "# %load solutions/dqn_agent.py\n",
    "import numpy as np\n",
    "import torch\n",
    "import torch.nn as nn\n",
    "from copy import deepcopy\n",
    "from solutions.replay_buffer2 import ReplayBuffer\n",
    "from solutions.dqn_greedy_action import greedy_action\n",
    "\n",
    "class dqn_agent:\n",
    "    def __init__(self, config, model):\n",
    "        device = \"cuda\" if next(model.parameters()).is_cuda else \"cpu\"\n",
    "        self.nb_actions = config['nb_actions']\n",
    "        self.gamma = config['gamma'] if 'gamma' in config.keys() else 0.95\n",
    "        self.batch_size = config['batch_size'] if 'batch_size' in config.keys() else 100\n",
    "        buffer_size = config['buffer_size'] if 'buffer_size' in config.keys() else int(1e5)\n",
    "        self.memory = ReplayBuffer(buffer_size,device)\n",
    "        self.epsilon_max = config['epsilon_max'] if 'epsilon_max' in config.keys() else 1.\n",
    "        self.epsilon_min = config['epsilon_min'] if 'epsilon_min' in config.keys() else 0.01\n",
    "        self.epsilon_stop = config['epsilon_decay_period'] if 'epsilon_decay_period' in config.keys() else 1000\n",
    "        self.epsilon_delay = config['epsilon_delay_decay'] if 'epsilon_delay_decay' in config.keys() else 20\n",
    "        self.epsilon_step = (self.epsilon_max-self.epsilon_min)/self.epsilon_stop\n",
    "        self.model = model \n",
    "        self.target_model = deepcopy(self.model).to(device)\n",
    "        self.criterion = config['criterion'] if 'criterion' in config.keys() else torch.nn.MSELoss()\n",
    "        lr = config['learning_rate'] if 'learning_rate' in config.keys() else 0.001\n",
    "        self.optimizer = config['optimizer'] if 'optimizer' in config.keys() else torch.optim.Adam(self.model.parameters(), lr=lr)\n",
    "        self.nb_gradient_steps = config['gradient_steps'] if 'gradient_steps' in config.keys() else 1\n",
    "        self.update_target_strategy = config['update_target_strategy'] if 'update_target_strategy' in config.keys() else 'replace'\n",
    "        self.update_target_freq = config['update_target_freq'] if 'update_target_freq' in config.keys() else 20\n",
    "        self.update_target_tau = config['update_target_tau'] if 'update_target_tau' in config.keys() else 0.005\n",
    "    \n",
    "    def gradient_step(self):\n",
    "        if len(self.memory) > self.batch_size:\n",
    "            X, A, R, Y, D = self.memory.sample(self.batch_size)\n",
    "            QYmax = self.target_model(Y).max(1)[0].detach()\n",
    "            update = torch.addcmul(R, 1-D, QYmax, value=self.gamma)\n",
    "            QXA = self.model(X).gather(1, A.to(torch.long).unsqueeze(1))\n",
    "            loss = self.criterion(QXA, update.unsqueeze(1))\n",
    "            self.optimizer.zero_grad()\n",
    "            loss.backward()\n",
    "            self.optimizer.step() \n",
    "    \n",
    "    def train(self, env, max_episode):\n",
    "        episode_return = []\n",
    "        episode = 0\n",
    "        episode_cum_reward = 0\n",
    "        state, _ = env.reset()\n",
    "        epsilon = self.epsilon_max\n",
    "        step = 0\n",
    "        while episode < max_episode:\n",
    "            # update epsilon\n",
    "            if step > self.epsilon_delay:\n",
    "                epsilon = max(self.epsilon_min, epsilon-self.epsilon_step)\n",
    "            # select epsilon-greedy action\n",
    "            if np.random.rand() < epsilon:\n",
    "                action = env.action_space.sample()\n",
    "            else:\n",
    "                action = greedy_action(self.model, state)\n",
    "            # step\n",
    "            next_state, reward, done, trunc, _ = env.step(action)\n",
    "            self.memory.append(state, action, reward, next_state, done)\n",
    "            episode_cum_reward += reward\n",
    "            # train\n",
    "            for _ in range(self.nb_gradient_steps): \n",
    "                self.gradient_step()\n",
    "            # update target network if needed\n",
    "            if self.update_target_strategy == 'replace':\n",
    "                if step % self.update_target_freq == 0: \n",
    "                    self.target_model.load_state_dict(self.model.state_dict())\n",
    "            if self.update_target_strategy == 'ema':\n",
    "                target_state_dict = self.target_model.state_dict()\n",
    "                model_state_dict = self.model.state_dict()\n",
    "                tau = self.update_target_tau\n",
    "                for key in model_state_dict:\n",
    "                    target_state_dict[key] = tau*model_state_dict[key] + (1-tau)*target_state_dict[key]\n",
    "                target_model.load_state_dict(target_state_dict)\n",
    "            # next transition\n",
    "            step += 1\n",
    "            if done or trunc:\n",
    "                episode += 1\n",
    "                print(\"Episode \", '{:3d}'.format(episode), \n",
    "                      \", epsilon \", '{:6.2f}'.format(epsilon), \n",
    "                      \", batch size \", '{:5d}'.format(len(self.memory)), \n",
    "                      \", episode return \", '{:4.1f}'.format(episode_cum_reward),\n",
    "                      sep='')\n",
    "                state, _ = env.reset()\n",
    "                episode_return.append(episode_cum_reward)\n",
    "                episode_cum_reward = 0\n",
    "            else:\n",
    "                state = next_state\n",
    "        return episode_return"
   ]
  },
  {
   "cell_type": "code",
   "execution_count": 2,
   "id": "552b65f5-1424-40fd-8325-95fd76741acd",
   "metadata": {},
   "outputs": [
    {
     "name": "stdout",
     "output_type": "stream",
     "text": [
      "Episode   1, epsilon   1.00, batch size    24, episode return 24.0\n",
      "Episode   2, epsilon   0.98, batch size    45, episode return 21.0\n",
      "Episode   3, epsilon   0.95, batch size    70, episode return 25.0\n",
      "Episode   4, epsilon   0.89, batch size   129, episode return 59.0\n",
      "Episode   5, epsilon   0.87, batch size   154, episode return 25.0\n",
      "Episode   6, epsilon   0.86, batch size   166, episode return 12.0\n",
      "Episode   7, epsilon   0.84, batch size   183, episode return 17.0\n",
      "Episode   8, epsilon   0.81, batch size   209, episode return 26.0\n",
      "Episode   9, epsilon   0.80, batch size   223, episode return 14.0\n",
      "Episode  10, epsilon   0.77, batch size   251, episode return 28.0\n",
      "Episode  11, epsilon   0.75, batch size   270, episode return 19.0\n",
      "Episode  12, epsilon   0.74, batch size   287, episode return 17.0\n",
      "Episode  13, epsilon   0.72, batch size   307, episode return 20.0\n",
      "Episode  14, epsilon   0.70, batch size   320, episode return 13.0\n",
      "Episode  15, epsilon   0.69, batch size   330, episode return 10.0\n",
      "Episode  16, epsilon   0.68, batch size   343, episode return 13.0\n",
      "Episode  17, epsilon   0.67, batch size   355, episode return 12.0\n",
      "Episode  18, epsilon   0.65, batch size   373, episode return 18.0\n",
      "Episode  19, epsilon   0.64, batch size   385, episode return 12.0\n",
      "Episode  20, epsilon   0.63, batch size   395, episode return 10.0\n",
      "Episode  21, epsilon   0.62, batch size   406, episode return 11.0\n",
      "Episode  22, epsilon   0.61, batch size   419, episode return 13.0\n",
      "Episode  23, epsilon   0.59, batch size   432, episode return 13.0\n",
      "Episode  24, epsilon   0.58, batch size   444, episode return 12.0\n",
      "Episode  25, epsilon   0.56, batch size   461, episode return 17.0\n",
      "Episode  26, epsilon   0.56, batch size   470, episode return  9.0\n",
      "Episode  27, epsilon   0.54, batch size   484, episode return 14.0\n",
      "Episode  28, epsilon   0.53, batch size   497, episode return 13.0\n",
      "Episode  29, epsilon   0.51, batch size   517, episode return 20.0\n",
      "Episode  30, epsilon   0.50, batch size   530, episode return 13.0\n",
      "Episode  31, epsilon   0.49, batch size   540, episode return 10.0\n",
      "Episode  32, epsilon   0.47, batch size   553, episode return 13.0\n",
      "Episode  33, epsilon   0.46, batch size   564, episode return 11.0\n",
      "Episode  34, epsilon   0.45, batch size   577, episode return 13.0\n",
      "Episode  35, epsilon   0.44, batch size   588, episode return 11.0\n",
      "Episode  36, epsilon   0.43, batch size   597, episode return  9.0\n",
      "Episode  37, epsilon   0.42, batch size   607, episode return 10.0\n",
      "Episode  38, epsilon   0.41, batch size   619, episode return 12.0\n",
      "Episode  39, epsilon   0.40, batch size   628, episode return  9.0\n",
      "Episode  40, epsilon   0.38, batch size   643, episode return 15.0\n",
      "Episode  41, epsilon   0.37, batch size   654, episode return 11.0\n",
      "Episode  42, epsilon   0.36, batch size   667, episode return 13.0\n",
      "Episode  43, epsilon   0.35, batch size   677, episode return 10.0\n",
      "Episode  44, epsilon   0.34, batch size   686, episode return  9.0\n",
      "Episode  45, epsilon   0.33, batch size   699, episode return 13.0\n",
      "Episode  46, epsilon   0.32, batch size   711, episode return 12.0\n",
      "Episode  47, epsilon   0.31, batch size   719, episode return  8.0\n",
      "Episode  48, epsilon   0.30, batch size   729, episode return 10.0\n",
      "Episode  49, epsilon   0.29, batch size   738, episode return  9.0\n",
      "Episode  50, epsilon   0.28, batch size   749, episode return 11.0\n",
      "Episode  51, epsilon   0.27, batch size   761, episode return 12.0\n",
      "Episode  52, epsilon   0.26, batch size   770, episode return  9.0\n",
      "Episode  53, epsilon   0.25, batch size   782, episode return 12.0\n",
      "Episode  54, epsilon   0.24, batch size   793, episode return 11.0\n",
      "Episode  55, epsilon   0.22, batch size   805, episode return 12.0\n",
      "Episode  56, epsilon   0.21, batch size   815, episode return 10.0\n",
      "Episode  57, epsilon   0.20, batch size   830, episode return 15.0\n",
      "Episode  58, epsilon   0.19, batch size   841, episode return 11.0\n",
      "Episode  59, epsilon   0.18, batch size   854, episode return 13.0\n",
      "Episode  60, epsilon   0.17, batch size   864, episode return 10.0\n",
      "Episode  61, epsilon   0.15, batch size   878, episode return 14.0\n",
      "Episode  62, epsilon   0.14, batch size   892, episode return 14.0\n",
      "Episode  63, epsilon   0.13, batch size   903, episode return 11.0\n",
      "Episode  64, epsilon   0.12, batch size   914, episode return 11.0\n",
      "Episode  65, epsilon   0.10, batch size   926, episode return 12.0\n",
      "Episode  66, epsilon   0.10, batch size   935, episode return  9.0\n",
      "Episode  67, epsilon   0.08, batch size   948, episode return 13.0\n",
      "Episode  68, epsilon   0.07, batch size   956, episode return  8.0\n",
      "Episode  69, epsilon   0.06, batch size   968, episode return 12.0\n",
      "Episode  70, epsilon   0.05, batch size   979, episode return 11.0\n",
      "Episode  71, epsilon   0.04, batch size   990, episode return 11.0\n",
      "Episode  72, epsilon   0.03, batch size   998, episode return  8.0\n",
      "Episode  73, epsilon   0.02, batch size  1007, episode return  9.0\n",
      "Episode  74, epsilon   0.01, batch size  1017, episode return 10.0\n",
      "Episode  75, epsilon   0.01, batch size  1027, episode return 10.0\n",
      "Episode  76, epsilon   0.01, batch size  1038, episode return 11.0\n",
      "Episode  77, epsilon   0.01, batch size  1049, episode return 11.0\n",
      "Episode  78, epsilon   0.01, batch size  1058, episode return  9.0\n",
      "Episode  79, epsilon   0.01, batch size  1067, episode return  9.0\n",
      "Episode  80, epsilon   0.01, batch size  1077, episode return 10.0\n",
      "Episode  81, epsilon   0.01, batch size  1087, episode return 10.0\n",
      "Episode  82, epsilon   0.01, batch size  1097, episode return 10.0\n",
      "Episode  83, epsilon   0.01, batch size  1108, episode return 11.0\n",
      "Episode  84, epsilon   0.01, batch size  1118, episode return 10.0\n",
      "Episode  85, epsilon   0.01, batch size  1127, episode return  9.0\n",
      "Episode  86, epsilon   0.01, batch size  1135, episode return  8.0\n",
      "Episode  87, epsilon   0.01, batch size  1144, episode return  9.0\n",
      "Episode  88, epsilon   0.01, batch size  1154, episode return 10.0\n",
      "Episode  89, epsilon   0.01, batch size  1164, episode return 10.0\n",
      "Episode  90, epsilon   0.01, batch size  1174, episode return 10.0\n",
      "Episode  91, epsilon   0.01, batch size  1184, episode return 10.0\n",
      "Episode  92, epsilon   0.01, batch size  1193, episode return  9.0\n",
      "Episode  93, epsilon   0.01, batch size  1202, episode return  9.0\n",
      "Episode  94, epsilon   0.01, batch size  1211, episode return  9.0\n",
      "Episode  95, epsilon   0.01, batch size  1221, episode return 10.0\n",
      "Episode  96, epsilon   0.01, batch size  1229, episode return  8.0\n",
      "Episode  97, epsilon   0.01, batch size  1238, episode return  9.0\n",
      "Episode  98, epsilon   0.01, batch size  1246, episode return  8.0\n",
      "Episode  99, epsilon   0.01, batch size  1254, episode return  8.0\n",
      "Episode 100, epsilon   0.01, batch size  1264, episode return 10.0\n",
      "Episode 101, epsilon   0.01, batch size  1275, episode return 11.0\n",
      "Episode 102, epsilon   0.01, batch size  1285, episode return 10.0\n",
      "Episode 103, epsilon   0.01, batch size  1294, episode return  9.0\n",
      "Episode 104, epsilon   0.01, batch size  1303, episode return  9.0\n",
      "Episode 105, epsilon   0.01, batch size  1312, episode return  9.0\n",
      "Episode 106, epsilon   0.01, batch size  1321, episode return  9.0\n",
      "Episode 107, epsilon   0.01, batch size  1330, episode return  9.0\n",
      "Episode 108, epsilon   0.01, batch size  1340, episode return 10.0\n",
      "Episode 109, epsilon   0.01, batch size  1349, episode return  9.0\n",
      "Episode 110, epsilon   0.01, batch size  1358, episode return  9.0\n",
      "Episode 111, epsilon   0.01, batch size  1368, episode return 10.0\n",
      "Episode 112, epsilon   0.01, batch size  1377, episode return  9.0\n",
      "Episode 113, epsilon   0.01, batch size  1387, episode return 10.0\n",
      "Episode 114, epsilon   0.01, batch size  1397, episode return 10.0\n",
      "Episode 115, epsilon   0.01, batch size  1407, episode return 10.0\n",
      "Episode 116, epsilon   0.01, batch size  1417, episode return 10.0\n",
      "Episode 117, epsilon   0.01, batch size  1427, episode return 10.0\n",
      "Episode 118, epsilon   0.01, batch size  1435, episode return  8.0\n",
      "Episode 119, epsilon   0.01, batch size  1446, episode return 11.0\n",
      "Episode 120, epsilon   0.01, batch size  1457, episode return 11.0\n",
      "Episode 121, epsilon   0.01, batch size  1468, episode return 11.0\n",
      "Episode 122, epsilon   0.01, batch size  1477, episode return  9.0\n",
      "Episode 123, epsilon   0.01, batch size  1486, episode return  9.0\n",
      "Episode 124, epsilon   0.01, batch size  1496, episode return 10.0\n",
      "Episode 125, epsilon   0.01, batch size  1507, episode return 11.0\n",
      "Episode 126, epsilon   0.01, batch size  1518, episode return 11.0\n",
      "Episode 127, epsilon   0.01, batch size  1527, episode return  9.0\n",
      "Episode 128, epsilon   0.01, batch size  1537, episode return 10.0\n",
      "Episode 129, epsilon   0.01, batch size  1547, episode return 10.0\n",
      "Episode 130, epsilon   0.01, batch size  1556, episode return  9.0\n",
      "Episode 131, epsilon   0.01, batch size  1565, episode return  9.0\n",
      "Episode 132, epsilon   0.01, batch size  1576, episode return 11.0\n",
      "Episode 133, epsilon   0.01, batch size  1585, episode return  9.0\n",
      "Episode 134, epsilon   0.01, batch size  1597, episode return 12.0\n",
      "Episode 135, epsilon   0.01, batch size  1609, episode return 12.0\n",
      "Episode 136, epsilon   0.01, batch size  1621, episode return 12.0\n",
      "Episode 137, epsilon   0.01, batch size  1632, episode return 11.0\n",
      "Episode 138, epsilon   0.01, batch size  1643, episode return 11.0\n",
      "Episode 139, epsilon   0.01, batch size  1653, episode return 10.0\n",
      "Episode 140, epsilon   0.01, batch size  1663, episode return 10.0\n",
      "Episode 141, epsilon   0.01, batch size  1676, episode return 13.0\n",
      "Episode 142, epsilon   0.01, batch size  1689, episode return 13.0\n",
      "Episode 143, epsilon   0.01, batch size  1705, episode return 16.0\n",
      "Episode 144, epsilon   0.01, batch size  1724, episode return 19.0\n",
      "Episode 145, epsilon   0.01, batch size  1738, episode return 14.0\n",
      "Episode 146, epsilon   0.01, batch size  1753, episode return 15.0\n",
      "Episode 147, epsilon   0.01, batch size  1772, episode return 19.0\n",
      "Episode 148, epsilon   0.01, batch size  1784, episode return 12.0\n",
      "Episode 149, epsilon   0.01, batch size  1802, episode return 18.0\n",
      "Episode 150, epsilon   0.01, batch size  1825, episode return 23.0\n",
      "Episode 151, epsilon   0.01, batch size  1842, episode return 17.0\n",
      "Episode 152, epsilon   0.01, batch size  1855, episode return 13.0\n",
      "Episode 153, epsilon   0.01, batch size  1878, episode return 23.0\n",
      "Episode 154, epsilon   0.01, batch size  1899, episode return 21.0\n",
      "Episode 155, epsilon   0.01, batch size  1921, episode return 22.0\n",
      "Episode 156, epsilon   0.01, batch size  1941, episode return 20.0\n",
      "Episode 157, epsilon   0.01, batch size  1967, episode return 26.0\n",
      "Episode 158, epsilon   0.01, batch size  1994, episode return 27.0\n",
      "Episode 159, epsilon   0.01, batch size  2019, episode return 25.0\n",
      "Episode 160, epsilon   0.01, batch size  2054, episode return 35.0\n",
      "Episode 161, epsilon   0.01, batch size  2086, episode return 32.0\n",
      "Episode 162, epsilon   0.01, batch size  2104, episode return 18.0\n",
      "Episode 163, epsilon   0.01, batch size  2125, episode return 21.0\n",
      "Episode 164, epsilon   0.01, batch size  2173, episode return 48.0\n",
      "Episode 165, epsilon   0.01, batch size  2219, episode return 46.0\n",
      "Episode 166, epsilon   0.01, batch size  2286, episode return 67.0\n",
      "Episode 167, epsilon   0.01, batch size  2328, episode return 42.0\n",
      "Episode 168, epsilon   0.01, batch size  2397, episode return 69.0\n",
      "Episode 169, epsilon   0.01, batch size  2496, episode return 99.0\n",
      "Episode 170, epsilon   0.01, batch size  2541, episode return 45.0\n",
      "Episode 171, epsilon   0.01, batch size  2575, episode return 34.0\n",
      "Episode 172, epsilon   0.01, batch size  2636, episode return 61.0\n",
      "Episode 173, epsilon   0.01, batch size  2705, episode return 69.0\n",
      "Episode 174, epsilon   0.01, batch size  2866, episode return 161.0\n",
      "Episode 175, epsilon   0.01, batch size  2988, episode return 122.0\n",
      "Episode 176, epsilon   0.01, batch size  3042, episode return 54.0\n",
      "Episode 177, epsilon   0.01, batch size  3191, episode return 149.0\n",
      "Episode 178, epsilon   0.01, batch size  3251, episode return 60.0\n",
      "Episode 179, epsilon   0.01, batch size  3330, episode return 79.0\n",
      "Episode 180, epsilon   0.01, batch size  3427, episode return 97.0\n",
      "Episode 181, epsilon   0.01, batch size  3553, episode return 126.0\n",
      "Episode 182, epsilon   0.01, batch size  3619, episode return 66.0\n",
      "Episode 183, epsilon   0.01, batch size  3669, episode return 50.0\n",
      "Episode 184, epsilon   0.01, batch size  3719, episode return 50.0\n",
      "Episode 185, epsilon   0.01, batch size  3778, episode return 59.0\n",
      "Episode 186, epsilon   0.01, batch size  3861, episode return 83.0\n",
      "Episode 187, epsilon   0.01, batch size  3917, episode return 56.0\n",
      "Episode 188, epsilon   0.01, batch size  3964, episode return 47.0\n",
      "Episode 189, epsilon   0.01, batch size  4002, episode return 38.0\n",
      "Episode 190, epsilon   0.01, batch size  4053, episode return 51.0\n",
      "Episode 191, epsilon   0.01, batch size  4181, episode return 128.0\n",
      "Episode 192, epsilon   0.01, batch size  4256, episode return 75.0\n",
      "Episode 193, epsilon   0.01, batch size  4364, episode return 108.0\n",
      "Episode 194, epsilon   0.01, batch size  4495, episode return 131.0\n",
      "Episode 195, epsilon   0.01, batch size  4536, episode return 41.0\n",
      "Episode 196, epsilon   0.01, batch size  4572, episode return 36.0\n",
      "Episode 197, epsilon   0.01, batch size  4630, episode return 58.0\n",
      "Episode 198, epsilon   0.01, batch size  4678, episode return 48.0\n",
      "Episode 199, epsilon   0.01, batch size  4740, episode return 62.0\n",
      "Episode 200, epsilon   0.01, batch size  4826, episode return 86.0\n"
     ]
    },
    {
     "data": {
      "image/png": "[encoded data removed]",
      "text/plain": [
       "<Figure size 640x480 with 1 Axes>"
      ]
     },
     "metadata": {},
     "output_type": "display_data"
    }
   ],
   "source": [
    "import gymnasium as gym\n",
    "cartpole = gym.make('CartPole-v1', render_mode=\"rgb_array\")\n",
    "import torch\n",
    "import torch.nn as nn\n",
    "import matplotlib.pyplot as plt\n",
    "device = torch.device(\"cuda\" if torch.cuda.is_available() else \"cpu\")\n",
    "\n",
    "# Declare network\n",
    "state_dim = cartpole.observation_space.shape[0]\n",
    "n_action = cartpole.action_space.n \n",
    "nb_neurons=24\n",
    "DQN = torch.nn.Sequential(nn.Linear(state_dim, nb_neurons),\n",
    "                          nn.ReLU(),\n",
    "                          nn.Linear(nb_neurons, nb_neurons),\n",
    "                          nn.ReLU(), \n",
    "                          nn.Linear(nb_neurons, n_action)).to(device)\n",
    "\n",
    "# DQN config\n",
    "config = {'nb_actions': cartpole.action_space.n,\n",
    "          'learning_rate': 0.001,\n",
    "          'gamma': 0.95,\n",
    "          'buffer_size': 1000000,\n",
    "          'epsilon_min': 0.01,\n",
    "          'epsilon_max': 1.,\n",
    "          'epsilon_decay_period': 1000,\n",
    "          'epsilon_delay_decay': 20,\n",
    "          'batch_size': 20,\n",
    "          'gradient_steps': 1,\n",
    "          'update_target_strategy': 'replace', # or 'ema'\n",
    "          'update_target_freq': 50,\n",
    "          'update_target_tau': 0.005,\n",
    "          'criterion': torch.nn.SmoothL1Loss()}\n",
    "\n",
    "# Train agent\n",
    "agent = dqn_agent(config, DQN)\n",
    "scores = agent.train(cartpole, 200)\n",
    "plt.plot(scores);"
   ]
  },
  {
   "cell_type": "code",
   "execution_count": null,
   "id": "16ec63f0-ef83-4ed6-8c5b-158c19aa5173",
   "metadata": {},
   "outputs": [],
   "source": [
    "import gymnasium as gym\n",
    "from solutions.dqn_greedy_action import greedy_action\n",
    "\n",
    "cartpole = gym.make('CartPole-v1', render_mode=\"human\")\n",
    "s,_ = cartpole.reset()\n",
    "for t in range(1000):\n",
    "    a = greedy_action(DQN,s)\n",
    "    s2,r,d,trunc,_ = cartpole.step(a)\n",
    "    cartpole.render()\n",
    "    s = s2\n",
    "    if d:\n",
    "        break\n",
    "\n",
    "cartpole.close()"
   ]
  },
  {
   "cell_type": "markdown",
   "id": "ba97d82d-3896-4e4f-8f35-ede1dfd66a35",
   "metadata": {},
   "source": [
    "## Monitoring progress\n",
    "\n",
    "In the previous experiments, we have counted the number of steps per training episode. But during these episodes, the applied policy was $\\epsilon$-greedy, not greedy. So this is not an objective measure of performance. Let's try to correct this.\n",
    "\n",
    "<div class=\"alert alert-warning\">\n",
    "    \n",
    "**Exercise:**  \n",
    "Enhance your previous code with the monitoring, after each episode, of:\n",
    "- the number of steps of the training episode\n",
    "- a Monte Carlo estimate of the total sum of rewards from the (distribution of) starting state,\n",
    "- a Monte Carlo estimate of the sum of discounted rewards from the (distribution of) starting state,\n",
    "- an average, over possible starting states $s_0$ of the current $\\max_a Q(s_0,a)$.\n",
    "</div>"
   ]
  },
  {
   "cell_type": "code",
   "execution_count": 3,
   "id": "721ab9a0-d468-4fd1-a305-a66a151229f3",
   "metadata": {},
   "outputs": [],
   "source": [
    "# %load solutions/dqn_agent.py\n",
    "import numpy as np\n",
    "import torch\n",
    "import torch.nn as nn\n",
    "from copy import deepcopy\n",
    "from solutions.replay_buffer2 import ReplayBuffer\n",
    "from solutions.dqn_greedy_action import greedy_action\n",
    "\n",
    "class dqn_agent:\n",
    "    def __init__(self, config, model):\n",
    "        device = \"cuda\" if next(model.parameters()).is_cuda else \"cpu\"\n",
    "        self.nb_actions = config['nb_actions']\n",
    "        self.gamma = config['gamma'] if 'gamma' in config.keys() else 0.95\n",
    "        self.batch_size = config['batch_size'] if 'batch_size' in config.keys() else 100\n",
    "        buffer_size = config['buffer_size'] if 'buffer_size' in config.keys() else int(1e5)\n",
    "        self.memory = ReplayBuffer(buffer_size,device)\n",
    "        self.epsilon_max = config['epsilon_max'] if 'epsilon_max' in config.keys() else 1.\n",
    "        self.epsilon_min = config['epsilon_min'] if 'epsilon_min' in config.keys() else 0.01\n",
    "        self.epsilon_stop = config['epsilon_decay_period'] if 'epsilon_decay_period' in config.keys() else 1000\n",
    "        self.epsilon_delay = config['epsilon_delay_decay'] if 'epsilon_delay_decay' in config.keys() else 20\n",
    "        self.epsilon_step = (self.epsilon_max-self.epsilon_min)/self.epsilon_stop\n",
    "        self.model = model \n",
    "        self.target_model = deepcopy(self.model).to(device)\n",
    "        self.criterion = config['criterion'] if 'criterion' in config.keys() else torch.nn.MSELoss()\n",
    "        lr = config['learning_rate'] if 'learning_rate' in config.keys() else 0.001\n",
    "        self.optimizer = config['optimizer'] if 'optimizer' in config.keys() else torch.optim.Adam(self.model.parameters(), lr=lr)\n",
    "        self.nb_gradient_steps = config['gradient_steps'] if 'gradient_steps' in config.keys() else 1\n",
    "        self.update_target_strategy = config['update_target_strategy'] if 'update_target_strategy' in config.keys() else 'replace'\n",
    "        self.update_target_freq = config['update_target_freq'] if 'update_target_freq' in config.keys() else 20\n",
    "        self.update_target_tau = config['update_target_tau'] if 'update_target_tau' in config.keys() else 0.005\n",
    "        self.monitoring_nb_trials = config['monitoring_nb_trials'] if 'monitoring_nb_trials' in config.keys() else 0\n",
    "\n",
    "    def MC_eval(self, env, nb_trials):   # NEW NEW NEW\n",
    "        MC_total_reward = []\n",
    "        MC_discounted_reward = []\n",
    "        for _ in range(nb_trials):\n",
    "            x,_ = env.reset()\n",
    "            done = False\n",
    "            trunc = False\n",
    "            total_reward = 0\n",
    "            discounted_reward = 0\n",
    "            step = 0\n",
    "            while not (done or trunc):\n",
    "                a = greedy_action(self.model, x)\n",
    "                y,r,done,trunc,_ = env.step(a)\n",
    "                x = y\n",
    "                total_reward += r\n",
    "                discounted_reward += self.gamma**step * r\n",
    "                step += 1\n",
    "            MC_total_reward.append(total_reward)\n",
    "            MC_discounted_reward.append(discounted_reward)\n",
    "        return np.mean(MC_discounted_reward), np.mean(MC_total_reward)\n",
    "    \n",
    "    def V_initial_state(self, env, nb_trials):   # NEW NEW NEW\n",
    "        with torch.no_grad():\n",
    "            for _ in range(nb_trials):\n",
    "                val = []\n",
    "                x,_ = env.reset()\n",
    "                val.append(self.model(torch.Tensor(x).unsqueeze(0).to(device)).max().item())\n",
    "        return np.mean(val)\n",
    "    \n",
    "    def gradient_step(self):\n",
    "        if len(self.memory) > self.batch_size:\n",
    "            X, A, R, Y, D = self.memory.sample(self.batch_size)\n",
    "            QYmax = self.target_model(Y).max(1)[0].detach()\n",
    "            update = torch.addcmul(R, 1-D, QYmax, value=self.gamma)\n",
    "            QXA = self.model(X).gather(1, A.to(torch.long).unsqueeze(1))\n",
    "            loss = self.criterion(QXA, update.unsqueeze(1))\n",
    "            self.optimizer.zero_grad()\n",
    "            loss.backward()\n",
    "            self.optimizer.step() \n",
    "    \n",
    "    def train(self, env, max_episode):\n",
    "        episode_return = []\n",
    "        MC_avg_total_reward = []   # NEW NEW NEW\n",
    "        MC_avg_discounted_reward = []   # NEW NEW NEW\n",
    "        V_init_state = []   # NEW NEW NEW\n",
    "        episode = 0\n",
    "        episode_cum_reward = 0\n",
    "        state, _ = env.reset()\n",
    "        epsilon = self.epsilon_max\n",
    "        step = 0\n",
    "        while episode < max_episode:\n",
    "            # update epsilon\n",
    "            if step > self.epsilon_delay:\n",
    "                epsilon = max(self.epsilon_min, epsilon-self.epsilon_step)\n",
    "            # select epsilon-greedy action\n",
    "            if np.random.rand() < epsilon:\n",
    "                action = env.action_space.sample()\n",
    "            else:\n",
    "                action = greedy_action(self.model, state)\n",
    "            # step\n",
    "            next_state, reward, done, trunc, _ = env.step(action)\n",
    "            self.memory.append(state, action, reward, next_state, done)\n",
    "            episode_cum_reward += reward\n",
    "            # train\n",
    "            for _ in range(self.nb_gradient_steps): \n",
    "                self.gradient_step()\n",
    "            # update target network if needed\n",
    "            if self.update_target_strategy == 'replace':\n",
    "                if step % self.update_target_freq == 0: \n",
    "                    self.target_model.load_state_dict(self.model.state_dict())\n",
    "            if self.update_target_strategy == 'ema':\n",
    "                target_state_dict = self.target_model.state_dict()\n",
    "                model_state_dict = self.model.state_dict()\n",
    "                tau = self.update_target_tau\n",
    "                for key in model_state_dict:\n",
    "                    target_state_dict[key] = tau*model_state_dict + (1-tau)*target_state_dict\n",
    "                target_model.load_state_dict(target_state_dict)\n",
    "            # next transition\n",
    "            step += 1\n",
    "            if done or trunc:\n",
    "                episode += 1\n",
    "                # Monitoring\n",
    "                if self.monitoring_nb_trials>0:\n",
    "                    MC_dr, MC_tr = self.MC_eval(env, self.monitoring_nb_trials)    # NEW NEW NEW\n",
    "                    V0 = self.V_initial_state(env, self.monitoring_nb_trials)   # NEW NEW NEW\n",
    "                    MC_avg_total_reward.append(MC_tr)   # NEW NEW NEW\n",
    "                    MC_avg_discounted_reward.append(MC_dr)   # NEW NEW NEW\n",
    "                    V_init_state.append(V0)   # NEW NEW NEW\n",
    "                    episode_return.append(episode_cum_reward)   # NEW NEW NEW\n",
    "                    print(\"Episode \", '{:2d}'.format(episode), \n",
    "                          \", epsilon \", '{:6.2f}'.format(epsilon), \n",
    "                          \", batch size \", '{:4d}'.format(len(self.memory)), \n",
    "                          \", ep return \", '{:4.1f}'.format(episode_cum_reward), \n",
    "                          \", MC tot \", '{:6.2f}'.format(MC_tr),\n",
    "                          \", MC disc \", '{:6.2f}'.format(MC_dr),\n",
    "                          \", V0 \", '{:6.2f}'.format(V0),\n",
    "                          sep='')\n",
    "                else:\n",
    "                    episode_return.append(episode_cum_reward)\n",
    "                    print(\"Episode \", '{:2d}'.format(episode), \n",
    "                          \", epsilon \", '{:6.2f}'.format(epsilon), \n",
    "                          \", batch size \", '{:4d}'.format(len(self.memory)), \n",
    "                          \", ep return \", '{:4.1f}'.format(episode_cum_reward), \n",
    "                          sep='')\n",
    "\n",
    "                \n",
    "                state, _ = env.reset()\n",
    "                episode_cum_reward = 0\n",
    "            else:\n",
    "                state = next_state\n",
    "        return episode_return, MC_avg_discounted_reward, MC_avg_total_reward, V_init_state"
   ]
  },
  {
   "cell_type": "code",
   "execution_count": 4,
   "id": "245188ab-f471-4715-9cab-e4397316f6a7",
   "metadata": {},
   "outputs": [
    {
     "name": "stdout",
     "output_type": "stream",
     "text": [
      "Episode  1, epsilon   0.99, batch size   32, ep return 32.0, MC tot   9.28, MC disc   7.56, V0   0.19\n",
      "Episode  2, epsilon   0.97, batch size   49, ep return 17.0, MC tot   9.36, MC disc   7.62, V0   0.26\n",
      "Episode  3, epsilon   0.96, batch size   61, ep return 12.0, MC tot   9.28, MC disc   7.57, V0   0.31\n",
      "Episode  4, epsilon   0.92, batch size   97, ep return 36.0, MC tot  15.90, MC disc  11.10, V0   0.55\n",
      "Episode  5, epsilon   0.91, batch size  112, ep return 15.0, MC tot  24.18, MC disc  14.10, V0   0.72\n",
      "Episode  6, epsilon   0.88, batch size  139, ep return 27.0, MC tot  39.36, MC disc  16.88, V0   1.20\n",
      "Episode  7, epsilon   0.86, batch size  162, ep return 23.0, MC tot  17.32, MC disc  11.46, V0   1.62\n",
      "Episode  8, epsilon   0.82, batch size  199, ep return 37.0, MC tot   9.28, MC disc   7.57, V0   2.31\n",
      "Episode  9, epsilon   0.80, batch size  219, ep return 20.0, MC tot   9.18, MC disc   7.50, V0   2.99\n",
      "Episode 10, epsilon   0.79, batch size  231, ep return 12.0, MC tot   9.50, MC disc   7.70, V0   3.35\n",
      "Episode 11, epsilon   0.78, batch size  247, ep return 16.0, MC tot   9.42, MC disc   7.65, V0   3.31\n",
      "Episode 12, epsilon   0.76, batch size  264, ep return 17.0, MC tot   9.26, MC disc   7.55, V0   3.82\n",
      "Episode 13, epsilon   0.75, batch size  275, ep return 11.0, MC tot   9.24, MC disc   7.54, V0   4.25\n",
      "Episode 14, epsilon   0.74, batch size  285, ep return 10.0, MC tot   9.48, MC disc   7.69, V0   4.20\n",
      "Episode 15, epsilon   0.72, batch size  300, ep return 15.0, MC tot   9.24, MC disc   7.54, V0   4.15\n",
      "Episode 16, epsilon   0.70, batch size  319, ep return 19.0, MC tot   9.44, MC disc   7.67, V0   4.96\n",
      "Episode 17, epsilon   0.68, batch size  341, ep return 22.0, MC tot   9.40, MC disc   7.64, V0   5.07\n",
      "Episode 18, epsilon   0.67, batch size  355, ep return 14.0, MC tot   9.32, MC disc   7.59, V0   5.33\n",
      "Episode 19, epsilon   0.65, batch size  374, ep return 19.0, MC tot   9.32, MC disc   7.59, V0   5.98\n",
      "Episode 20, epsilon   0.63, batch size  390, ep return 16.0, MC tot   9.34, MC disc   7.60, V0   5.95\n",
      "Episode 21, epsilon   0.62, batch size  404, ep return 14.0, MC tot   9.38, MC disc   7.63, V0   6.11\n",
      "Episode 22, epsilon   0.61, batch size  413, ep return  9.0, MC tot   9.26, MC disc   7.55, V0   6.88\n",
      "Episode 23, epsilon   0.60, batch size  425, ep return 12.0, MC tot   9.26, MC disc   7.55, V0   6.96\n",
      "Episode 24, epsilon   0.59, batch size  435, ep return 10.0, MC tot   9.42, MC disc   7.66, V0   6.82\n",
      "Episode 25, epsilon   0.57, batch size  458, ep return 23.0, MC tot   9.54, MC disc   7.73, V0   7.34\n",
      "Episode 26, epsilon   0.55, batch size  472, ep return 14.0, MC tot   9.50, MC disc   7.70, V0   7.97\n",
      "Episode 27, epsilon   0.54, batch size  488, ep return 16.0, MC tot   9.30, MC disc   7.58, V0   7.85\n",
      "Episode 28, epsilon   0.53, batch size  498, ep return 10.0, MC tot   9.32, MC disc   7.59, V0   7.65\n",
      "Episode 29, epsilon   0.52, batch size  509, ep return 11.0, MC tot   9.38, MC disc   7.63, V0   8.23\n",
      "Episode 30, epsilon   0.50, batch size  521, ep return 12.0, MC tot   9.46, MC disc   7.68, V0   8.98\n",
      "Episode 31, epsilon   0.49, batch size  536, ep return 15.0, MC tot   9.30, MC disc   7.57, V0   8.49\n",
      "Episode 32, epsilon   0.48, batch size  549, ep return 13.0, MC tot   9.56, MC disc   7.74, V0   8.67\n",
      "Episode 33, epsilon   0.47, batch size  560, ep return 11.0, MC tot   9.24, MC disc   7.54, V0   9.06\n",
      "Episode 34, epsilon   0.46, batch size  569, ep return  9.0, MC tot   9.36, MC disc   7.62, V0   9.94\n",
      "Episode 35, epsilon   0.44, batch size  583, ep return 14.0, MC tot   9.40, MC disc   7.64, V0   9.52\n",
      "Episode 36, epsilon   0.43, batch size  597, ep return 14.0, MC tot   9.28, MC disc   7.57, V0   9.28\n",
      "Episode 37, epsilon   0.41, batch size  619, ep return 22.0, MC tot   9.56, MC disc   7.74, V0  10.27\n",
      "Episode 38, epsilon   0.39, batch size  636, ep return 17.0, MC tot   9.40, MC disc   7.64, V0  10.25\n",
      "Episode 39, epsilon   0.38, batch size  646, ep return 10.0, MC tot   9.20, MC disc   7.51, V0  10.30\n",
      "Episode 40, epsilon   0.37, batch size  655, ep return  9.0, MC tot   9.50, MC disc   7.71, V0  10.60\n",
      "Episode 41, epsilon   0.36, batch size  669, ep return 14.0, MC tot   9.34, MC disc   7.61, V0  11.08\n",
      "Episode 42, epsilon   0.35, batch size  680, ep return 11.0, MC tot   9.38, MC disc   7.63, V0  11.14\n",
      "Episode 43, epsilon   0.34, batch size  692, ep return 12.0, MC tot   9.22, MC disc   7.53, V0  11.22\n",
      "Episode 44, epsilon   0.33, batch size  702, ep return 10.0, MC tot   9.42, MC disc   7.66, V0  11.04\n",
      "Episode 45, epsilon   0.32, batch size  711, ep return  9.0, MC tot   9.40, MC disc   7.64, V0  11.59\n",
      "Episode 46, epsilon   0.30, batch size  724, ep return 13.0, MC tot   9.38, MC disc   7.63, V0  11.76\n",
      "Episode 47, epsilon   0.29, batch size  736, ep return 12.0, MC tot   9.32, MC disc   7.59, V0  11.65\n",
      "Episode 48, epsilon   0.28, batch size  749, ep return 13.0, MC tot   9.50, MC disc   7.70, V0  11.58\n",
      "Episode 49, epsilon   0.27, batch size  759, ep return 10.0, MC tot   9.26, MC disc   7.55, V0  12.28\n",
      "Episode 50, epsilon   0.26, batch size  770, ep return 11.0, MC tot   9.42, MC disc   7.66, V0  12.17\n",
      "Episode 51, epsilon   0.24, batch size  786, ep return 16.0, MC tot   9.32, MC disc   7.59, V0  12.44\n",
      "Episode 52, epsilon   0.23, batch size  795, ep return  9.0, MC tot   9.44, MC disc   7.67, V0  11.91\n",
      "Episode 53, epsilon   0.22, batch size  805, ep return 10.0, MC tot   9.48, MC disc   7.69, V0  12.38\n",
      "Episode 54, epsilon   0.21, batch size  815, ep return 10.0, MC tot   9.22, MC disc   7.53, V0  12.77\n",
      "Episode 55, epsilon   0.20, batch size  826, ep return 11.0, MC tot  10.84, MC disc   8.52, V0  12.86\n",
      "Episode 56, epsilon   0.19, batch size  836, ep return 10.0, MC tot  10.12, MC disc   8.08, V0  13.24\n",
      "Episode 57, epsilon   0.18, batch size  847, ep return 11.0, MC tot  10.10, MC disc   8.07, V0  12.32\n",
      "Episode 58, epsilon   0.17, batch size  856, ep return  9.0, MC tot  10.32, MC disc   8.21, V0  12.77\n",
      "Episode 59, epsilon   0.16, batch size  865, ep return  9.0, MC tot  11.60, MC disc   8.95, V0  13.01\n",
      "Episode 60, epsilon   0.15, batch size  877, ep return 12.0, MC tot  12.20, MC disc   9.26, V0  13.68\n",
      "Episode 61, epsilon   0.14, batch size  890, ep return 13.0, MC tot  10.84, MC disc   8.51, V0  13.50\n",
      "Episode 62, epsilon   0.13, batch size  903, ep return 13.0, MC tot  11.06, MC disc   8.64, V0  13.12\n",
      "Episode 63, epsilon   0.11, batch size  919, ep return 16.0, MC tot  13.02, MC disc   9.71, V0  13.78\n",
      "Episode 64, epsilon   0.10, batch size  931, ep return 12.0, MC tot  12.28, MC disc   9.30, V0  13.51\n",
      "Episode 65, epsilon   0.09, batch size  943, ep return 12.0, MC tot  15.34, MC disc  10.83, V0  13.56\n",
      "Episode 66, epsilon   0.07, batch size  964, ep return 21.0, MC tot  16.04, MC disc  11.17, V0  13.77\n",
      "Episode 67, epsilon   0.05, batch size  980, ep return 16.0, MC tot  13.86, MC disc  10.14, V0  13.90\n",
      "Episode 68, epsilon   0.03, batch size  999, ep return 19.0, MC tot  20.90, MC disc  13.02, V0  14.07\n",
      "Episode 69, epsilon   0.01, batch size 1018, ep return 19.0, MC tot  22.26, MC disc  13.42, V0  14.17\n",
      "Episode 70, epsilon   0.01, batch size 1040, ep return 22.0, MC tot  24.80, MC disc  14.12, V0  14.00\n",
      "Episode 71, epsilon   0.01, batch size 1066, ep return 26.0, MC tot   9.38, MC disc   7.63, V0  14.46\n",
      "Episode 72, epsilon   0.01, batch size 1076, ep return 10.0, MC tot   9.40, MC disc   7.64, V0  14.14\n",
      "Episode 73, epsilon   0.01, batch size 1086, ep return 10.0, MC tot  20.36, MC disc  11.96, V0  14.22\n",
      "Episode 74, epsilon   0.01, batch size 1097, ep return 11.0, MC tot   9.34, MC disc   7.61, V0  14.56\n",
      "Episode 75, epsilon   0.01, batch size 1107, ep return 10.0, MC tot   9.48, MC disc   7.69, V0  14.74\n",
      "Episode 76, epsilon   0.01, batch size 1116, ep return  9.0, MC tot   9.18, MC disc   7.50, V0  14.98\n",
      "Episode 77, epsilon   0.01, batch size 1126, ep return 10.0, MC tot   9.28, MC disc   7.56, V0  14.56\n",
      "Episode 78, epsilon   0.01, batch size 1135, ep return  9.0, MC tot   9.34, MC disc   7.60, V0  14.49\n",
      "Episode 79, epsilon   0.01, batch size 1144, ep return  9.0, MC tot   9.30, MC disc   7.58, V0  14.91\n",
      "Episode 80, epsilon   0.01, batch size 1153, ep return  9.0, MC tot   9.36, MC disc   7.62, V0  14.08\n",
      "Episode 81, epsilon   0.01, batch size 1161, ep return  8.0, MC tot   9.42, MC disc   7.66, V0  15.09\n",
      "Episode 82, epsilon   0.01, batch size 1169, ep return  8.0, MC tot   9.26, MC disc   7.55, V0  15.60\n",
      "Episode 83, epsilon   0.01, batch size 1179, ep return 10.0, MC tot   9.34, MC disc   7.61, V0  14.91\n",
      "Episode 84, epsilon   0.01, batch size 1188, ep return  9.0, MC tot   9.46, MC disc   7.68, V0  15.52\n",
      "Episode 85, epsilon   0.01, batch size 1197, ep return  9.0, MC tot   9.40, MC disc   7.64, V0  15.05\n",
      "Episode 86, epsilon   0.01, batch size 1206, ep return  9.0, MC tot   9.54, MC disc   7.73, V0  15.43\n",
      "Episode 87, epsilon   0.01, batch size 1216, ep return 10.0, MC tot   9.34, MC disc   7.60, V0  15.92\n",
      "Episode 88, epsilon   0.01, batch size 1225, ep return  9.0, MC tot   9.32, MC disc   7.59, V0  15.83\n",
      "Episode 89, epsilon   0.01, batch size 1235, ep return 10.0, MC tot   9.38, MC disc   7.63, V0  14.88\n",
      "Episode 90, epsilon   0.01, batch size 1243, ep return  8.0, MC tot   9.34, MC disc   7.60, V0  14.90\n",
      "Episode 91, epsilon   0.01, batch size 1252, ep return  9.0, MC tot   9.56, MC disc   7.74, V0  15.68\n",
      "Episode 92, epsilon   0.01, batch size 1262, ep return 10.0, MC tot   9.24, MC disc   7.54, V0  15.98\n",
      "Episode 93, epsilon   0.01, batch size 1272, ep return 10.0, MC tot   9.40, MC disc   7.64, V0  15.62\n",
      "Episode 94, epsilon   0.01, batch size 1280, ep return  8.0, MC tot   9.16, MC disc   7.49, V0  15.60\n",
      "Episode 95, epsilon   0.01, batch size 1289, ep return  9.0, MC tot   9.36, MC disc   7.61, V0  16.43\n",
      "Episode 96, epsilon   0.01, batch size 1298, ep return  9.0, MC tot   9.48, MC disc   7.69, V0  15.39\n",
      "Episode 97, epsilon   0.01, batch size 1307, ep return  9.0, MC tot   9.44, MC disc   7.67, V0  16.46\n",
      "Episode 98, epsilon   0.01, batch size 1317, ep return 10.0, MC tot   9.40, MC disc   7.64, V0  16.77\n",
      "Episode 99, epsilon   0.01, batch size 1326, ep return  9.0, MC tot   9.44, MC disc   7.67, V0  16.05\n",
      "Episode 100, epsilon   0.01, batch size 1334, ep return  8.0, MC tot   9.42, MC disc   7.65, V0  16.69\n",
      "Episode 101, epsilon   0.01, batch size 1343, ep return  9.0, MC tot   9.38, MC disc   7.63, V0  15.96\n",
      "Episode 102, epsilon   0.01, batch size 1352, ep return  9.0, MC tot   9.28, MC disc   7.57, V0  16.45\n",
      "Episode 103, epsilon   0.01, batch size 1361, ep return  9.0, MC tot   9.26, MC disc   7.55, V0  16.81\n",
      "Episode 104, epsilon   0.01, batch size 1371, ep return 10.0, MC tot   9.38, MC disc   7.63, V0  16.41\n",
      "Episode 105, epsilon   0.01, batch size 1380, ep return  9.0, MC tot   9.30, MC disc   7.58, V0  16.61\n",
      "Episode 106, epsilon   0.01, batch size 1388, ep return  8.0, MC tot   9.22, MC disc   7.53, V0  16.98\n",
      "Episode 107, epsilon   0.01, batch size 1396, ep return  8.0, MC tot   9.34, MC disc   7.60, V0  16.49\n",
      "Episode 108, epsilon   0.01, batch size 1405, ep return  9.0, MC tot   9.38, MC disc   7.63, V0  17.03\n",
      "Episode 109, epsilon   0.01, batch size 1415, ep return 10.0, MC tot   9.32, MC disc   7.59, V0  16.68\n",
      "Episode 110, epsilon   0.01, batch size 1424, ep return  9.0, MC tot   9.38, MC disc   7.63, V0  17.08\n",
      "Episode 111, epsilon   0.01, batch size 1432, ep return  8.0, MC tot   9.28, MC disc   7.56, V0  16.29\n",
      "Episode 112, epsilon   0.01, batch size 1442, ep return 10.0, MC tot   9.38, MC disc   7.63, V0  17.86\n",
      "Episode 113, epsilon   0.01, batch size 1450, ep return  8.0, MC tot   9.14, MC disc   7.48, V0  16.68\n",
      "Episode 114, epsilon   0.01, batch size 1460, ep return 10.0, MC tot   9.50, MC disc   7.71, V0  17.87\n",
      "Episode 115, epsilon   0.01, batch size 1468, ep return  8.0, MC tot   9.26, MC disc   7.56, V0  17.90\n",
      "Episode 116, epsilon   0.01, batch size 1477, ep return  9.0, MC tot   9.44, MC disc   7.67, V0  18.00\n",
      "Episode 117, epsilon   0.01, batch size 1485, ep return  8.0, MC tot   9.38, MC disc   7.63, V0  17.75\n",
      "Episode 118, epsilon   0.01, batch size 1494, ep return  9.0, MC tot   9.48, MC disc   7.69, V0  17.41\n",
      "Episode 119, epsilon   0.01, batch size 1502, ep return  8.0, MC tot   9.24, MC disc   7.54, V0  17.36\n",
      "Episode 120, epsilon   0.01, batch size 1512, ep return 10.0, MC tot   9.24, MC disc   7.54, V0  17.98\n",
      "Episode 121, epsilon   0.01, batch size 1520, ep return  8.0, MC tot   9.34, MC disc   7.60, V0  17.99\n",
      "Episode 122, epsilon   0.01, batch size 1530, ep return 10.0, MC tot   9.44, MC disc   7.67, V0  18.38\n",
      "Episode 123, epsilon   0.01, batch size 1540, ep return 10.0, MC tot   9.44, MC disc   7.67, V0  17.84\n",
      "Episode 124, epsilon   0.01, batch size 1548, ep return  8.0, MC tot   9.42, MC disc   7.65, V0  18.30\n",
      "Episode 125, epsilon   0.01, batch size 1558, ep return 10.0, MC tot   9.48, MC disc   7.69, V0  17.58\n",
      "Episode 126, epsilon   0.01, batch size 1568, ep return 10.0, MC tot   9.36, MC disc   7.62, V0  18.49\n",
      "Episode 127, epsilon   0.01, batch size 1578, ep return 10.0, MC tot   9.40, MC disc   7.64, V0  18.51\n",
      "Episode 128, epsilon   0.01, batch size 1587, ep return  9.0, MC tot   9.42, MC disc   7.65, V0  18.96\n",
      "Episode 129, epsilon   0.01, batch size 1598, ep return 11.0, MC tot   9.44, MC disc   7.67, V0  18.37\n",
      "Episode 130, epsilon   0.01, batch size 1607, ep return  9.0, MC tot   9.32, MC disc   7.59, V0  18.64\n",
      "Episode 131, epsilon   0.01, batch size 1617, ep return 10.0, MC tot   9.32, MC disc   7.59, V0  18.33\n",
      "Episode 132, epsilon   0.01, batch size 1626, ep return  9.0, MC tot   9.40, MC disc   7.64, V0  18.47\n",
      "Episode 133, epsilon   0.01, batch size 1635, ep return  9.0, MC tot   9.40, MC disc   7.64, V0  18.02\n",
      "Episode 134, epsilon   0.01, batch size 1644, ep return  9.0, MC tot   9.40, MC disc   7.64, V0  18.04\n",
      "Episode 135, epsilon   0.01, batch size 1655, ep return 11.0, MC tot   9.46, MC disc   7.68, V0  19.30\n",
      "Episode 136, epsilon   0.01, batch size 1664, ep return  9.0, MC tot   9.36, MC disc   7.62, V0  19.52\n",
      "Episode 137, epsilon   0.01, batch size 1673, ep return  9.0, MC tot   9.42, MC disc   7.66, V0  18.90\n",
      "Episode 138, epsilon   0.01, batch size 1681, ep return  8.0, MC tot   9.40, MC disc   7.64, V0  18.48\n",
      "Episode 139, epsilon   0.01, batch size 1690, ep return  9.0, MC tot   9.26, MC disc   7.55, V0  19.42\n",
      "Episode 140, epsilon   0.01, batch size 1700, ep return 10.0, MC tot   9.20, MC disc   7.52, V0  18.95\n",
      "Episode 141, epsilon   0.01, batch size 1710, ep return 10.0, MC tot   9.36, MC disc   7.61, V0  20.15\n",
      "Episode 142, epsilon   0.01, batch size 1719, ep return  9.0, MC tot   9.34, MC disc   7.60, V0  19.18\n",
      "Episode 143, epsilon   0.01, batch size 1729, ep return 10.0, MC tot   9.52, MC disc   7.72, V0  20.72\n",
      "Episode 144, epsilon   0.01, batch size 1738, ep return  9.0, MC tot   9.30, MC disc   7.58, V0  19.90\n",
      "Episode 145, epsilon   0.01, batch size 1748, ep return 10.0, MC tot   9.26, MC disc   7.55, V0  19.94\n",
      "Episode 146, epsilon   0.01, batch size 1757, ep return  9.0, MC tot   9.16, MC disc   7.49, V0  19.91\n",
      "Episode 147, epsilon   0.01, batch size 1765, ep return  8.0, MC tot   9.54, MC disc   7.73, V0  20.24\n",
      "Episode 148, epsilon   0.01, batch size 1775, ep return 10.0, MC tot   9.62, MC disc   7.78, V0  20.67\n",
      "Episode 149, epsilon   0.01, batch size 1785, ep return 10.0, MC tot   9.50, MC disc   7.70, V0  19.56\n",
      "Episode 150, epsilon   0.01, batch size 1794, ep return  9.0, MC tot   9.30, MC disc   7.58, V0  20.41\n",
      "Episode 151, epsilon   0.01, batch size 1804, ep return 10.0, MC tot   9.36, MC disc   7.62, V0  20.63\n",
      "Episode 152, epsilon   0.01, batch size 1814, ep return 10.0, MC tot   9.42, MC disc   7.66, V0  21.23\n",
      "Episode 153, epsilon   0.01, batch size 1822, ep return  8.0, MC tot   9.40, MC disc   7.64, V0  20.88\n",
      "Episode 154, epsilon   0.01, batch size 1830, ep return  8.0, MC tot   9.30, MC disc   7.58, V0  20.79\n",
      "Episode 155, epsilon   0.01, batch size 1840, ep return 10.0, MC tot   9.32, MC disc   7.59, V0  20.58\n",
      "Episode 156, epsilon   0.01, batch size 1848, ep return  8.0, MC tot   9.30, MC disc   7.58, V0  21.28\n",
      "Episode 157, epsilon   0.01, batch size 1857, ep return  9.0, MC tot   9.40, MC disc   7.64, V0  20.61\n",
      "Episode 158, epsilon   0.01, batch size 1867, ep return 10.0, MC tot   9.36, MC disc   7.62, V0  20.78\n",
      "Episode 159, epsilon   0.01, batch size 1877, ep return 10.0, MC tot   9.46, MC disc   7.68, V0  21.72\n",
      "Episode 160, epsilon   0.01, batch size 1885, ep return  8.0, MC tot   9.38, MC disc   7.63, V0  22.03\n",
      "Episode 161, epsilon   0.01, batch size 1894, ep return  9.0, MC tot   9.46, MC disc   7.68, V0  20.64\n",
      "Episode 162, epsilon   0.01, batch size 1902, ep return  8.0, MC tot   9.26, MC disc   7.55, V0  21.21\n",
      "Episode 163, epsilon   0.01, batch size 1910, ep return  8.0, MC tot   9.36, MC disc   7.62, V0  22.86\n",
      "Episode 164, epsilon   0.01, batch size 1921, ep return 11.0, MC tot   9.16, MC disc   7.49, V0  22.01\n",
      "Episode 165, epsilon   0.01, batch size 1930, ep return  9.0, MC tot   9.44, MC disc   7.67, V0  22.23\n",
      "Episode 166, epsilon   0.01, batch size 1939, ep return  9.0, MC tot   9.34, MC disc   7.60, V0  22.74\n",
      "Episode 167, epsilon   0.01, batch size 1949, ep return 10.0, MC tot   9.28, MC disc   7.56, V0  21.96\n",
      "Episode 168, epsilon   0.01, batch size 1959, ep return 10.0, MC tot   9.46, MC disc   7.68, V0  21.36\n",
      "Episode 169, epsilon   0.01, batch size 1967, ep return  8.0, MC tot   9.18, MC disc   7.50, V0  22.27\n",
      "Episode 170, epsilon   0.01, batch size 1977, ep return 10.0, MC tot   9.46, MC disc   7.68, V0  22.39\n",
      "Episode 171, epsilon   0.01, batch size 1987, ep return 10.0, MC tot   9.20, MC disc   7.51, V0  21.59\n",
      "Episode 172, epsilon   0.01, batch size 1997, ep return 10.0, MC tot   9.52, MC disc   7.72, V0  21.64\n",
      "Episode 173, epsilon   0.01, batch size 2006, ep return  9.0, MC tot   9.32, MC disc   7.59, V0  22.72\n",
      "Episode 174, epsilon   0.01, batch size 2015, ep return  9.0, MC tot   9.24, MC disc   7.54, V0  23.84\n",
      "Episode 175, epsilon   0.01, batch size 2025, ep return 10.0, MC tot   9.62, MC disc   7.78, V0  21.60\n",
      "Episode 176, epsilon   0.01, batch size 2034, ep return  9.0, MC tot   9.44, MC disc   7.67, V0  22.27\n",
      "Episode 177, epsilon   0.01, batch size 2043, ep return  9.0, MC tot   9.36, MC disc   7.61, V0  22.60\n",
      "Episode 178, epsilon   0.01, batch size 2051, ep return  8.0, MC tot   9.40, MC disc   7.64, V0  23.42\n",
      "Episode 179, epsilon   0.01, batch size 2060, ep return  9.0, MC tot   9.42, MC disc   7.65, V0  23.84\n",
      "Episode 180, epsilon   0.01, batch size 2071, ep return 11.0, MC tot   9.28, MC disc   7.57, V0  23.12\n",
      "Episode 181, epsilon   0.01, batch size 2080, ep return  9.0, MC tot   9.54, MC disc   7.73, V0  22.65\n",
      "Episode 182, epsilon   0.01, batch size 2090, ep return 10.0, MC tot   9.54, MC disc   7.73, V0  22.54\n",
      "Episode 183, epsilon   0.01, batch size 2100, ep return 10.0, MC tot   9.24, MC disc   7.54, V0  22.80\n",
      "Episode 184, epsilon   0.01, batch size 2109, ep return  9.0, MC tot   9.38, MC disc   7.63, V0  24.51\n",
      "Episode 185, epsilon   0.01, batch size 2118, ep return  9.0, MC tot   9.54, MC disc   7.73, V0  23.21\n",
      "Episode 186, epsilon   0.01, batch size 2127, ep return  9.0, MC tot   9.32, MC disc   7.59, V0  22.48\n",
      "Episode 187, epsilon   0.01, batch size 2136, ep return  9.0, MC tot   9.20, MC disc   7.52, V0  23.44\n",
      "Episode 188, epsilon   0.01, batch size 2144, ep return  8.0, MC tot   9.36, MC disc   7.62, V0  22.27\n",
      "Episode 189, epsilon   0.01, batch size 2152, ep return  8.0, MC tot   9.20, MC disc   7.51, V0  22.70\n",
      "Episode 190, epsilon   0.01, batch size 2164, ep return 12.0, MC tot   9.42, MC disc   7.66, V0  23.12\n",
      "Episode 191, epsilon   0.01, batch size 2173, ep return  9.0, MC tot   9.30, MC disc   7.58, V0  23.53\n",
      "Episode 192, epsilon   0.01, batch size 2182, ep return  9.0, MC tot   9.38, MC disc   7.63, V0  23.40\n",
      "Episode 193, epsilon   0.01, batch size 2191, ep return  9.0, MC tot   9.30, MC disc   7.58, V0  23.30\n",
      "Episode 194, epsilon   0.01, batch size 2200, ep return  9.0, MC tot   9.50, MC disc   7.71, V0  22.82\n",
      "Episode 195, epsilon   0.01, batch size 2208, ep return  8.0, MC tot   9.40, MC disc   7.64, V0  24.04\n",
      "Episode 196, epsilon   0.01, batch size 2218, ep return 10.0, MC tot   9.32, MC disc   7.59, V0  23.43\n",
      "Episode 197, epsilon   0.01, batch size 2228, ep return 10.0, MC tot   9.44, MC disc   7.67, V0  24.36\n",
      "Episode 198, epsilon   0.01, batch size 2238, ep return 10.0, MC tot   9.38, MC disc   7.63, V0  23.70\n",
      "Episode 199, epsilon   0.01, batch size 2248, ep return 10.0, MC tot   9.32, MC disc   7.59, V0  24.10\n",
      "Episode 200, epsilon   0.01, batch size 2258, ep return 10.0, MC tot   9.26, MC disc   7.55, V0  24.14\n"
     ]
    },
    {
     "data": {
      "image/png": "[encoded data removed]",
      "text/plain": [
       "<Figure size 640x480 with 1 Axes>"
      ]
     },
     "metadata": {},
     "output_type": "display_data"
    },
    {
     "data": {
      "image/png": "[encoded data removed]",
      "text/plain": [
       "<Figure size 640x480 with 1 Axes>"
      ]
     },
     "metadata": {},
     "output_type": "display_data"
    }
   ],
   "source": [
    "import gymnasium as gym\n",
    "cartpole = gym.make('CartPole-v1', render_mode=\"rgb_array\")\n",
    "import torch\n",
    "import torch.nn as nn\n",
    "import matplotlib.pyplot as plt\n",
    "device = torch.device(\"cuda\" if torch.cuda.is_available() else \"cpu\")\n",
    "\n",
    "# Declare network\n",
    "state_dim = cartpole.observation_space.shape[0]\n",
    "n_action = cartpole.action_space.n \n",
    "nb_neurons=24\n",
    "DQN = torch.nn.Sequential(nn.Linear(state_dim, nb_neurons),\n",
    "                          nn.ReLU(),\n",
    "                          nn.Linear(nb_neurons, nb_neurons),\n",
    "                          nn.ReLU(), \n",
    "                          nn.Linear(nb_neurons, n_action)).to(device)\n",
    "\n",
    "# DQN config\n",
    "config = {'nb_actions': cartpole.action_space.n,\n",
    "          'learning_rate': 0.001,\n",
    "          'gamma': 0.95,\n",
    "          'buffer_size': 1000000,\n",
    "          'epsilon_min': 0.01,\n",
    "          'epsilon_max': 1.,\n",
    "          'epsilon_decay_period': 1000,\n",
    "          'epsilon_delay_decay': 20,\n",
    "          'batch_size': 20,\n",
    "          'gradient_steps': 1,\n",
    "          'update_target_strategy': 'replace', # or 'ema'\n",
    "          'update_target_freq': 50,\n",
    "          'update_target_tau': 0.005,\n",
    "          'criterion': torch.nn.SmoothL1Loss(),\n",
    "          'monitoring_nb_trials': 50}\n",
    "\n",
    "# Train agent\n",
    "agent = dqn_agent(config, DQN)\n",
    "ep_length, disc_rewards, tot_rewards, V0 = agent.train(cartpole, 200)\n",
    "plt.plot(ep_length, label=\"training episode length\")\n",
    "plt.plot(tot_rewards, label=\"MC eval of total reward\")\n",
    "plt.legend()\n",
    "plt.figure()\n",
    "plt.plot(disc_rewards, label=\"MC eval of discounted reward\")\n",
    "plt.plot(V0, label=\"average $max_a Q(s_0)$\")\n",
    "plt.legend();"
   ]
  },
  {
   "cell_type": "markdown",
   "id": "a72ddf33-dfdd-417f-9907-9cde397409f7",
   "metadata": {},
   "source": [
    "## Discussion\n",
    "\n",
    "Have you noted that Q overestimates the true value of the optimal policy? More on this in [this paper](https://papers.nips.cc/paper/3964-double-q-learning) if you are interested.  \n",
    "Have you noted that the greedy policy is optimal much sooner than the $Q$ function?  \n",
    "Have you remarked that the greedy policy performs well much sooner than the agent's policy (which is $\\epsilon$-greedy)?  \n",
    "Can you anticipate the importance of well tuned exploration, for instance if the state space is much larger, or if parts of it are very hard to reach?  \n",
    "Can you anticipate the effect of taking a larger $\\gamma$?   "
   ]
  },
  {
   "cell_type": "markdown",
   "id": "e917d67e-5ae6-4be7-8c01-ca857956d533",
   "metadata": {},
   "source": [
    "## DQN on image-based tasks\n",
    "\n",
    "Now it's time to turn towards Pong. As you noted earlier, the frame information in Pong is not sufficient to define an MDP, but stacking several frames together allows to recover the Markov property.\n",
    "\n",
    "We could wish to modify the previous replay buffer so that frames are stored only once (for memory efficiency). Then this new replay buffer would still need to return stacks of 4 frames when `sample()` is called.\n",
    "\n",
    "Fortunately, there's a simpler way to do that.\n",
    "We can use another wrapper so that calling env.step(a) returns a stack of 4 frames.\n",
    "This wrapper actually only stores each frame once which optimizes memory efficiency. This way, we can keep on using our previous replay buffer class."
   ]
  },
  {
   "cell_type": "code",
   "execution_count": 6,
   "id": "f9cbc6e8-3c76-42e8-a7e8-8a33d71a2e73",
   "metadata": {},
   "outputs": [
    {
     "name": "stderr",
     "output_type": "stream",
     "text": [
      "A.L.E: Arcade Learning Environment (version 0.8.1+53f58b7)\n",
      "[Powered by Stella]\n"
     ]
    }
   ],
   "source": [
    "import gymnasium as gym\n",
    "from gymnasium.wrappers import AtariPreprocessing, FrameStack\n",
    "pong = gym.make(\"PongNoFrameskip-v4\", render_mode=\"rgb_array\")\n",
    "pong = AtariPreprocessing(pong)\n",
    "pong = FrameStack(pong, 4)"
   ]
  },
  {
   "cell_type": "code",
   "execution_count": 7,
   "id": "6b12eb36-127a-4075-9f1b-68a4a40b87ce",
   "metadata": {},
   "outputs": [
    {
     "name": "stdout",
     "output_type": "stream",
     "text": [
      "(4, 84, 84)\n"
     ]
    }
   ],
   "source": [
    "x,_ = pong.reset()\n",
    "print(x.shape)"
   ]
  },
  {
   "cell_type": "markdown",
   "id": "4cfe5726-663e-40fc-933d-d3d1e318ec31",
   "metadata": {},
   "source": [
    "The two DQN papers ([Playing Atari with Deep Reinforcement Learning](https://arxiv.org/abs/1312.5602) and [Human-level control through deep reinforcement learning](https://deepmind.com/research/publications/human-level-control-through-deep-reinforcement-learning)) actually introduce two different neural network architectures.\n",
    "\n",
    "The 2013 paper uses this architecture:\n",
    "- input: $84\\times 84\\times 4$ image (the last 4 frames)\n",
    "- layer 1: Convolutions with 16 filters of size $8\\times 8$ and stride 4. The activation is a ReLU function.\n",
    "- layer 2: Convolutions with 32 filters of size $4\\times 4$ and stride 2. The activation is a ReLU function.\n",
    "- layer 3: Fully connected with 256 ReLU units\n",
    "- layer 4 (output): Fully connected with 2 linear units (one for each action's value)\n",
    "\n",
    "The 2015 paper \n",
    "- input: $84\\times 84\\times 4$ image (the last 4 frames)\n",
    "- layer 1: Convolutions with 32 filters of size $8\\times 8$ and stride 4. The activation is a ReLU function.\n",
    "- layer 2: Convolutions with 64 filters of size $4\\times 4$ and stride 2. The activation is a ReLU function.\n",
    "- layer 3: Convolutions with 64 filters of size $3\\times 3$ and stride 1. The activation is a ReLU function.\n",
    "- layer 4: Fully connected with 512 ReLU units\n",
    "- layer 5 (output): Fully connected with 2 linear units (one for each action's value)\n",
    "\n",
    "Also, it is a good practice to pre-fill the replay buffer with randomly sampled experience. The 2015 paper runs a random policy for 50000 steps to feed the replay buffer before training."
   ]
  },
  {
   "cell_type": "markdown",
   "id": "9ed33fc4-af42-4c0c-978b-26aba066fd84",
   "metadata": {},
   "source": [
    "<div class=\"alert alert-warning\">\n",
    "    \n",
    "**Exercise:** Create the corresponding neural network and adapt your optimization code from the previous exercice to train on Pong (you can take $C$ much larger, in the order of $10000$).\n",
    "</div>\n",
    "\n",
    "Caveat: unless you have a good GPU and a fair amount of time ahead of you (several hours or more), it is recommended to run this computation for a limited number of episodes, on a cloud computing service (or on a dediated machine)."
   ]
  },
  {
   "cell_type": "code",
   "execution_count": 8,
   "id": "0425aae5-fd7f-4fbf-a116-5f75375797ca",
   "metadata": {},
   "outputs": [],
   "source": [
    "import torch.nn as nn\n",
    "import torch.nn.functional as F\n",
    "\n",
    "class AtariCNN(nn.Module):\n",
    "    def __init__(self, in_channels=4, n_actions=6):\n",
    "        super(AtariCNN, self).__init__()\n",
    "        self.conv1 = nn.Conv2d(in_channels, 32, kernel_size=8, stride=4)\n",
    "        self.conv2 = nn.Conv2d(32, 64, kernel_size=4, stride=2)\n",
    "        self.conv3 = nn.Conv2d(64, 64, kernel_size=3, stride=1)\n",
    "        self.fc4 = nn.Linear(7 * 7 * 64, 512)\n",
    "        self.head = nn.Linear(512, n_actions)\n",
    "      \n",
    "    def forward(self, x):\n",
    "        x = F.relu(self.conv1(x))\n",
    "        x = F.relu(self.conv2(x))\n",
    "        x = F.relu(self.conv3(x))\n",
    "        x = F.relu(self.fc4(x.view(x.size(0), -1)))\n",
    "        return self.head(x)"
   ]
  },
  {
   "cell_type": "code",
   "execution_count": 9,
   "id": "f3de3768-ba88-4c8b-92a0-1084ef1f43da",
   "metadata": {},
   "outputs": [
    {
     "name": "stderr",
     "output_type": "stream",
     "text": [
      "100%|██████████| 50000/50000 [00:24<00:00, 2027.54it/s]\n"
     ]
    },
    {
     "name": "stdout",
     "output_type": "stream",
     "text": [
      "Episode  1, epsilon   1.00, batch size 51017, ep return -20.0\n"
     ]
    },
    {
     "name": "stderr",
     "output_type": "stream",
     "text": [
      "/home/emmanuel/git_repos/RLclass_MVA/notebooks/solutions/dqn_greedy_action.py:6: UserWarning: Creating a tensor from a list of numpy.ndarrays is extremely slow. Please consider converting the list to a single numpy.ndarray with numpy.array() before converting to a tensor. (Triggered internally at /opt/conda/conda-bld/pytorch_1702400440653/work/torch/csrc/utils/tensor_new.cpp:261.)\n",
      "  Q = network(torch.Tensor(state).unsqueeze(0).to(device))\n"
     ]
    },
    {
     "name": "stdout",
     "output_type": "stream",
     "text": [
      "Episode  2, epsilon   1.00, batch size 52158, ep return -19.0\n",
      "Episode  3, epsilon   1.00, batch size 53272, ep return -19.0\n"
     ]
    }
   ],
   "source": [
    "import gymnasium as gym\n",
    "from gymnasium.wrappers import AtariPreprocessing, FrameStack\n",
    "pong = gym.make(\"PongNoFrameskip-v4\", render_mode=\"rgb_array\")\n",
    "pong = AtariPreprocessing(pong)\n",
    "pong = FrameStack(pong,4)\n",
    "import torch\n",
    "import torch.nn as nn\n",
    "import matplotlib.pyplot as plt\n",
    "from tqdm import trange\n",
    "\n",
    "device = torch.device(\"cuda\" if torch.cuda.is_available() else \"cpu\")\n",
    "\n",
    "# Declare network\n",
    "AtariDQN = AtariCNN()\n",
    "\n",
    "# DQN config\n",
    "config = {'nb_actions': pong.action_space.n,\n",
    "          'learning_rate': 0.001,\n",
    "          'gamma': 0.95,\n",
    "          'buffer_size': 1000000,\n",
    "          'epsilon_min': 0.1,\n",
    "          'epsilon_max': 1.,\n",
    "          'epsilon_decay_period': 1000000,\n",
    "          'epsilon_delay_decay': 0,\n",
    "          'batch_size': 64,\n",
    "          'gradient_steps': 1,\n",
    "          'update_target_strategy': 'replace', # or 'ema'\n",
    "          'update_target_freq': 1000,\n",
    "          'update_target_tau': 0.005,\n",
    "          'criterion': torch.nn.SmoothL1Loss(),\n",
    "          'monitoring_nb_trials': 0}\n",
    "\n",
    "# Declare agent\n",
    "agent = dqn_agent(config, AtariDQN)\n",
    "\n",
    "# pre-fill the replay buffer\n",
    "x,_ = pong.reset()\n",
    "for t in trange(50000):\n",
    "    a = pong.action_space.sample()\n",
    "    y, r, d, tr, _ = pong.step(a)\n",
    "    agent.memory.append(x, a, r, y, d)\n",
    "    if d:\n",
    "        x,_ = pong.reset()\n",
    "    else:\n",
    "        x = y\n",
    "\n",
    "# Train agent\n",
    "ep_length, disc_rewards, tot_rewards, V0 = agent.train(pong, 3)"
   ]
  },
  {
   "cell_type": "code",
   "execution_count": 10,
   "id": "c24745b9-10f9-4bf2-881b-91693c7503d9",
   "metadata": {},
   "outputs": [
    {
     "name": "stderr",
     "output_type": "stream",
     "text": [
      "100%|██████████| 20/20 [00:54<00:00,  2.74s/it]"
     ]
    },
    {
     "name": "stdout",
     "output_type": "stream",
     "text": [
      "average score across 20 games: -21.0\n"
     ]
    },
    {
     "name": "stderr",
     "output_type": "stream",
     "text": [
      "\n"
     ]
    }
   ],
   "source": [
    "from solutions.dqn_greedy_action import greedy_action\n",
    "from tqdm import tqdm\n",
    "\n",
    "nb_games=20\n",
    "scores=[]\n",
    "for g in tqdm(range(nb_games)):\n",
    "    s,_ = pong.reset()\n",
    "    score=0\n",
    "    for t in range(1000):\n",
    "        a = greedy_action(AtariDQN,s)\n",
    "        s2,r,d,trunc,_ = pong.step(a)\n",
    "        s = s2\n",
    "        score+=r\n",
    "        if d:\n",
    "            scores.append(score)\n",
    "            break\n",
    "print(\"average score across\", nb_games, \"games:\", np.mean(scores))"
   ]
  },
  {
   "cell_type": "markdown",
   "id": "3e82e8e4-8c4f-4065-9d4a-e688b87366ef",
   "metadata": {},
   "source": [
    "To give you an idea of the behavior of a trained agent, you can check the following videos."
   ]
  },
  {
   "cell_type": "code",
   "execution_count": null,
   "id": "9543ae7d-2e65-4553-96b7-69cf744dd003",
   "metadata": {},
   "outputs": [],
   "source": [
    "from IPython.display import YouTubeVideo\n",
    "YouTubeVideo(\"p88R2_3yWPA\")"
   ]
  },
  {
   "cell_type": "code",
   "execution_count": null,
   "id": "cc512045-07bb-44d1-98b6-c6bb5c20129d",
   "metadata": {},
   "outputs": [],
   "source": [
    "YouTubeVideo(\"TmPfTpjtdgg\")"
   ]
  },
  {
   "cell_type": "markdown",
   "id": "5671837d-85ff-4a7a-b4f2-6efb36a442f2",
   "metadata": {},
   "source": [
    "**Going further**\n",
    "\n",
    "A lot of contributions have built on the initial success of DQN. Among those, some are combined and discussed in the **[Rainbow: Combining Improvements in Deep Reinforcement Learning](https://arxiv.org/abs/1710.02298)** paper. We will simply summarize their key ideas here, by decreasing order of importance (according to the paper).\n",
    "\n",
    "- N-step returns. Use samples that accumulate several returns rather than the 1-step return of TD(0).\n",
    "- [Prioritized experience replay](https://arxiv.org/abs/1511.05952) (PER) Inspired by the model-based [Prioritized Sweeping](https://link.springer.com/article/10.1007/BF00993104) approach, PER biases the distribution used to sample mini-batches in order to present high residual samples to the optimizer. Prioritized Sweeping is designed to accelerate the convergence in $L_\\infty$ norm for tabular representations. PER recently received theoretical justification through a variant called [large batch experience replay](https://proceedings.mlr.press/v162/lahire22a/lahire22a.pdf).\n",
    "- [Distributional value functions](https://arxiv.org/abs/1707.06887). Instead of estimating directly $\\mathbb{E}(\\sum_t \\gamma^t r_t)$, first estimate the distribution of $\\sum_t \\gamma^r r_t$, then take the expectation, and iterate. [Three](http://proceedings.mlr.press/v70/bellemare17a.html?trk=public_post_comment-text) [main](https://ojs.aaai.org/index.php/AAAI/article/view/11791) [papers](http://proceedings.mlr.press/v80/dabney18a.html) on the topic and abundant related work (and a [specific book](https://www.distributional-rl.org/)).\n",
    "- [NoisyNet](https://arxiv.org/abs/1706.10295). Instead of an $\\epsilon$-greedy exploration strategy, introduce noise in the network's parameters to drive the exploration.\n",
    "- [Double Q-learning](https://arxiv.org/abs/1509.06461). Q-learning is prone to over-estimation of the true optimal Q function (especially in high variance environments). Double Q-learning aims at compensating this weakness by introducing an under-estimation mechanism based on a second Q function.\n",
    "- [Dueling architecture](https://arxiv.org/abs/1511.06581). The neural network's architecture splits $Q$ into the estimation of a value $V(s)$ and an advantage $A(s,a)$ with shared first layers.\n",
    "\n",
    "Beyond these improvements, new work is published each year that leads to a better understanding of the interplay between Deep Learning and RL (eg. the importance of the buffer's distribution, the interpretability of policies, the representations learned, etc.)."
   ]
  },
  {
   "cell_type": "markdown",
   "id": "932c7046-6f93-453a-98c2-0746b7d2a257",
   "metadata": {},
   "source": [
    "# Summary\n",
    "\n",
    "In this chapter, we have built upon approximate value iteration to build algorithms for large scale problems. For this, we turned to offline regression techniques like random forests, and online ones, like (deep) neural networks.\n",
    "\n",
    "We have seen fitted Q-iteration, its efficiency and limits when the sampling distribution is critical.\n",
    "\n",
    "We have seen Deep Q-networks, their many improvements, their versatility, and the fine tuning of their parameters."
   ]
  },
  {
   "cell_type": "markdown",
   "id": "4cf81ffa-98ba-4403-95a2-72a83bcd1638",
   "metadata": {},
   "source": [
    "# Homework\n",
    "\n",
    "Implement:\n",
    "- [Double DQN](https://ojs.aaai.org/index.php/AAAI/article/view/10295)\n",
    "- n-step returns  \n",
    "- [PER](https://arxiv.org/abs/1511.05952) (maybe [LaBER](https://proceedings.mlr.press/v162/lahire22a/lahire22a.pdf))  \n",
    "- distributional DQN ([C51](http://proceedings.mlr.press/v70/bellemare17a.html?trk=public_post_comment-text))\n",
    "- [NoisyNet](https://arxiv.org/abs/1706.10295) (maybe [NGU](https://arxiv.org/abs/2002.06038))\n",
    "- [Munchausen DQN](https://proceedings.neurips.cc/paper/2020/hash/2c6a0bae0f071cbbf0bb3d5b11d90a82-Abstract.html)"
   ]
  },
  {
   "cell_type": "code",
   "execution_count": null,
   "id": "9a417a26-7b8d-45e6-87ae-be42cab921d3",
   "metadata": {},
   "outputs": [],
   "source": []
  }
 ],
 "metadata": {
  "kernelspec": {
   "display_name": "Python 3 (ipykernel)",
   "language": "python",
   "name": "python3"
  },
  "language_info": {
   "codemirror_mode": {
    "name": "ipython",
    "version": 3
   },
   "file_extension": ".py",
   "mimetype": "text/x-python",
   "name": "python",
   "nbconvert_exporter": "python",
   "pygments_lexer": "ipython3",
   "version": "3.11.7"
  }
 },
 "nbformat": 4,
 "nbformat_minor": 5
}
